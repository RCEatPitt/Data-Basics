{
 "cells": [
  {
   "cell_type": "markdown",
   "metadata": {},
   "source": [
    "# Data Basics Pipeline\n",
    "\n",
    "This example is going to draw upon all of the topics we have covered in this workshop series and see how they all fit together.\n",
    "\n",
    "---"
   ]
  },
  {
   "cell_type": "markdown",
   "metadata": {},
   "source": [
    "## Importing a CSV file into a table using sqlite3 tool\n",
    "---\n",
    "In the first scenario, you want to import data from CSV file into a table that does not exist in the SQLite database.\n",
    "\n",
    "First, the sqlite3 tool creates the table. The sqlite3 tool uses the first row of the CSV file as the names of the columns of the table.\n",
    "Second, the sqlite3 tool import data from the second row of the CSV file into the table.\n",
    "We will import a CSV file named service_requests.csv\n",
    "\n",
    "First, fire up a terminal window and run the following commands:"
   ]
  },
  {
   "cell_type": "raw",
   "metadata": {},
   "source": [
    "module load python/intel-3.6_2019.2.066"
   ]
  },
  {
   "cell_type": "markdown",
   "metadata": {},
   "source": [
    "This command will load a newer version of sqlite that can import CSV files. Once we have run that, then we can launch the sqlite command line:"
   ]
  },
  {
   "cell_type": "raw",
   "metadata": {},
   "source": [
    "sqlite3"
   ]
  },
  {
   "cell_type": "markdown",
   "metadata": {},
   "source": [
    "Set the mode to CSV to instruct the command-line shell program to interpret the input file as a CSV file (as opposed to a plain text file). To do this, you use the .mode command as follows:"
   ]
  },
  {
   "cell_type": "raw",
   "metadata": {},
   "source": [
    ".mode csv"
   ]
  },
  {
   "cell_type": "markdown",
   "metadata": {},
   "source": [
    "Next, import the csv file as an sql table using the following:"
   ]
  },
  {
   "cell_type": "raw",
   "metadata": {},
   "source": [
    ".import service_requests.csv requests"
   ]
  },
  {
   "cell_type": "markdown",
   "metadata": {},
   "source": [
    "To verify the import, you use the .schema command to display the structure of the requests table:"
   ]
  },
  {
   "cell_type": "raw",
   "metadata": {},
   "source": [
    ".schema requests"
   ]
  },
  {
   "cell_type": "markdown",
   "metadata": {},
   "source": [
    "Import the codebook csv file into the table `codes`:"
   ]
  },
  {
   "cell_type": "raw",
   "metadata": {},
   "source": [
    ".import 311-codebook.csv codes"
   ]
  },
  {
   "cell_type": "raw",
   "metadata": {},
   "source": [
    ".schema"
   ]
  },
  {
   "cell_type": "markdown",
   "metadata": {},
   "source": [
    "We should see something that looks like this:"
   ]
  },
  {
   "cell_type": "raw",
   "metadata": {},
   "source": [
    "CREATE TABLE requests(\n",
    "  \"REQUEST_ID\" TEXT,\n",
    "  \"CREATED_ON\" TEXT,\n",
    "  \"REQUEST_TYPE\" TEXT,\n",
    "  \"REQUEST_ORIGIN\" TEXT,\n",
    "  \"STATUS\" TEXT,\n",
    "  \"DEPARTMENT\" TEXT,\n",
    "  \"NEIGHBORHOOD\" TEXT,\n",
    "  \"COUNCIL_DISTRICT\" TEXT,\n",
    "  \"WARD\" TEXT,\n",
    "  \"TRACT\" TEXT,\n",
    "  \"PUBLIC_WORKS_DIVISION\" TEXT,\n",
    "  \"PLI_DIVISION\" TEXT,\n",
    "  \"POLICE_ZONE\" TEXT,\n",
    "  \"FIRE_ZONE\" TEXT,\n",
    "  \"X\" TEXT,\n",
    "  \"Y\" TEXT,\n",
    "  \"GEO_ACCURACY\" TEXT\n",
    ");\n",
    "CREATE TABLE codes(\n",
    "  \"Category\" TEXT,\n",
    "  \"Issue\" TEXT,\n",
    "  \"Definition\" TEXT,\n",
    "  \"Department\" TEXT,\n",
    "  \"Public Access Level\" TEXT,\n",
    "  \"Suggested Access Level\" TEXT\n",
    ");"
   ]
  },
  {
   "cell_type": "markdown",
   "metadata": {},
   "source": [
    "Save the table as a .db file using the .clone command:"
   ]
  },
  {
   "cell_type": "raw",
   "metadata": {},
   "source": [
    ".clone requests.db"
   ]
  },
  {
   "cell_type": "markdown",
   "metadata": {},
   "source": [
    "Now we can use this file like we have all along! You can exit sqlite3 and it will still be in our directory to work with again later. "
   ]
  },
  {
   "cell_type": "raw",
   "metadata": {},
   "source": [
    ".exit"
   ]
  },
  {
   "cell_type": "markdown",
   "metadata": {},
   "source": [
    "## Working with python and pandas\n",
    "---\n",
    "Let's open up our database again and use pandas to extract some useful information."
   ]
  },
  {
   "cell_type": "code",
   "execution_count": null,
   "metadata": {},
   "outputs": [],
   "source": [
    "import sqlite3\n",
    "import pandas as pd\n",
    "%matplotlib inline\n",
    "\n",
    "sqlite_file = 'service_requests.db'\n",
    "conn = sqlite3.connect(sqlite_file)\n",
    "\n",
    "query = '''\n",
    "SELECT * from requests\n",
    "LIMIT 5;\n",
    "'''\n",
    "\n",
    "df = pd.read_sql(query, conn)\n",
    "df"
   ]
  },
  {
   "cell_type": "code",
   "execution_count": null,
   "metadata": {},
   "outputs": [],
   "source": [
    "query = '''\n",
    "SELECT * from codes\n",
    "LIMIT 5;\n",
    "'''\n",
    "\n",
    "df = pd.read_sql(query, conn)\n",
    "df"
   ]
  },
  {
   "cell_type": "markdown",
   "metadata": {},
   "source": [
    "These tables can be joined on request_type = issue, so lets leverage that to reduce our dimensionality when trying to visualize the volume of request types for each neighborhood by grouping on category. First, using sqlite:"
   ]
  },
  {
   "cell_type": "code",
   "execution_count": null,
   "metadata": {},
   "outputs": [],
   "source": [
    "query = '''\n",
    "SELECT * from requests\n",
    "JOIN codes on requests.request_type = codes.issue\n",
    "LIMIT 5;\n",
    "'''\n",
    "\n",
    "df = pd.read_sql(query, conn)\n",
    "df"
   ]
  },
  {
   "cell_type": "markdown",
   "metadata": {},
   "source": [
    "Alternatively, we can perform this join with pandas:"
   ]
  },
  {
   "cell_type": "code",
   "execution_count": null,
   "metadata": {},
   "outputs": [],
   "source": [
    "query = '''\n",
    "SELECT * from requests;\n",
    "'''\n",
    "request_df = pd.read_sql(query, conn)\n",
    "\n",
    "query = '''\n",
    "SELECT * from codes;\n",
    "'''\n",
    "codes_df = pd.read_sql(query, conn)\n",
    "\n",
    "merged_df = pd.merge(request_df, codes_df, left_on=\"REQUEST_TYPE\", right_on=\"Issue\")\n",
    "merged_df.head()"
   ]
  },
  {
   "cell_type": "markdown",
   "metadata": {},
   "source": [
    "We get the same exact output, just using different methods.\n",
    "\n",
    "Cool - so let's say we want to concern ourselves with the potholes in Pittsburgh. Let's restrict our search to just those requests:"
   ]
  },
  {
   "cell_type": "code",
   "execution_count": null,
   "metadata": {},
   "outputs": [],
   "source": [
    "query = '''\n",
    "SELECT * \n",
    "FROM requests\n",
    "WHERE request_type = 'Potholes'\n",
    "\n",
    "LIMIT 5;\n",
    "'''\n",
    "\n",
    "df = pd.read_sql(query, conn)\n",
    "df"
   ]
  },
  {
   "cell_type": "markdown",
   "metadata": {},
   "source": [
    "Now let's say we want to find out which neighborhoods have the most potholes - we'll write a query to group our results appropriately:"
   ]
  },
  {
   "cell_type": "code",
   "execution_count": null,
   "metadata": {},
   "outputs": [],
   "source": [
    "query = '''\n",
    "SELECT neighborhood, count(request_type) AS num_potholes\n",
    "FROM requests\n",
    "WHERE request_type = 'Potholes'\n",
    "GROUP BY neighborhood\n",
    "ORDER BY num_potholes DESC\n",
    "LIMIT 20;\n",
    "'''\n",
    "\n",
    "df = pd.read_sql(query, conn)\n",
    "df"
   ]
  },
  {
   "cell_type": "markdown",
   "metadata": {},
   "source": [
    "We notice that at index 19 we have a '' value (not null, just an empty string) - this is probably just aggregating all of the potholes for which no neighborhood was reported. We can get rid of this.\n",
    "\n",
    "Let's also take a deeper dive here and try to determine how many pothole reports occur over time."
   ]
  },
  {
   "cell_type": "code",
   "execution_count": null,
   "metadata": {},
   "outputs": [],
   "source": [
    "query = '''\n",
    "SELECT neighborhood, count(request_type) AS num_potholes, substr(created_on, 0, 5) AS year\n",
    "FROM requests\n",
    "WHERE request_type = 'Potholes' AND neighborhood != ''\n",
    "GROUP BY neighborhood, year\n",
    "ORDER BY year DESC, num_potholes DESC\n",
    "LIMIT 20;\n",
    "'''\n",
    "\n",
    "df = pd.read_sql(query, conn)\n",
    "df"
   ]
  },
  {
   "cell_type": "markdown",
   "metadata": {},
   "source": [
    "Finally, let's try visualizing these for a particular neighborhood with a time series plot:"
   ]
  },
  {
   "cell_type": "code",
   "execution_count": null,
   "metadata": {},
   "outputs": [],
   "source": [
    "# select data for north oakland\n",
    "\n",
    "request_type = \"Potholes\"\n",
    "neighborhood = \"North Oakland\"\n",
    "\n",
    "# Use Python 3.7 format strings\n",
    "query = f'''\n",
    "SELECT neighborhood, count(request_type) AS num_potholes, substr(created_on, 0, 5) AS year\n",
    "FROM requests\n",
    "WHERE request_type = '{request_type}' AND neighborhood = '{neighborhood}'\n",
    "GROUP BY neighborhood, year\n",
    "ORDER BY year ASC\n",
    "LIMIT 20;\n",
    "'''\n",
    "print(query)\n",
    "\n",
    "df = pd.read_sql(query, conn, index_col='year',parse_dates=True)\n",
    "\n",
    "df.plot();"
   ]
  },
  {
   "cell_type": "code",
   "execution_count": null,
   "metadata": {},
   "outputs": [],
   "source": []
  }
 ],
 "metadata": {
  "kernelspec": {
   "display_name": "Python 3.7",
   "language": "python",
   "name": "python3"
  },
  "language_info": {
   "codemirror_mode": {
    "name": "ipython",
    "version": 3
   },
   "file_extension": ".py",
   "mimetype": "text/x-python",
   "name": "python",
   "nbconvert_exporter": "python",
   "pygments_lexer": "ipython3",
   "version": "3.7.0"
  }
 },
 "nbformat": 4,
 "nbformat_minor": 4
}
