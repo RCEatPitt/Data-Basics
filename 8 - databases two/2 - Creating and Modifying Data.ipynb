{
 "cells": [
  {
   "cell_type": "markdown",
   "metadata": {},
   "source": [
    "# Creating and Modifying Data and Databases in SQL\n",
    "\n",
    "Now it is time to go back to the SQLite command prompt (boo) and do some hacking on the structure of the databases."
   ]
  },
  {
   "cell_type": "markdown",
   "metadata": {},
   "source": [
    "## Opening SQLite Prompt\n",
    "\n",
    "* Open a terminal next to this Notebook\n",
    "    * `File -> New -> Terminal`\n",
    "    * Drag the terminal window tab to the center right of the window to do side-by-side display.\n",
    "* Navigate to the Week 8 directory. \n",
    "    * Use completion by type part of the directory name and hitting tab\n",
    "    * Or type it all out and put it in quotes (because of the spaces in the name) \n",
    "\n",
    "```\n",
    "$ cd \"data-basics-fall-2019/8 - databases two\"\n",
    "```\n",
    "\n",
    "* Make a backup of the database by running the command `cp survey.db survey.db.backup`\n",
    "* Now run the `sqlite3` command and open the `survey.db` file \n",
    "```$ sqlite3 survey.db```\n",
    "\n",
    "* Now you should see the SQLite prompt\n",
    "\n",
    "```\n",
    "SQLite version 3.13.0 2016-05-18 10:57:30\n",
    "Enter \".help\" for usage hints.\n",
    "sqlite>\n",
    "```\n",
    "\n",
    "* Run the `.tables` command to ensure everything is loaded up correctly\n",
    "```\n",
    "sqlite> .tables\n",
    "Person   Site     Survey   Visited\n",
    "sqlite>\n",
    "```\n",
    "\n",
    "\n",
    "* You are now running an SQlite shell, which is yet another command line interface...Yay!\n"
   ]
  },
  {
   "cell_type": "markdown",
   "metadata": {},
   "source": [
    "### Sprucing up the SQLite3 prompt\n",
    "\n",
    "* By default the SQLite prompt produces ugly output"
   ]
  },
  {
   "cell_type": "raw",
   "metadata": {},
   "source": [
    "sqlite> select * from person;\n",
    "dyer|William|Dyer\n",
    "pb|Frank|Pabodie\n",
    "lake|Anderson|Lake\n",
    "roe|Valentina|Roerich\n",
    "danforth|Frank|Danforth\n",
    "barrett|Mary|Barrett"
   ]
  },
  {
   "cell_type": "markdown",
   "metadata": {},
   "source": [
    "* We can better by running the following sqlite (not sql) commands"
   ]
  },
  {
   "cell_type": "raw",
   "metadata": {},
   "source": [
    "sqlite> .mode column\n",
    "sqlite> .header on"
   ]
  },
  {
   "cell_type": "markdown",
   "metadata": {},
   "source": [
    "* Now the ouput will look much nicer"
   ]
  },
  {
   "cell_type": "raw",
   "metadata": {},
   "source": [
    "sqlite> select * from person;\n",
    "id          personal    family\n",
    "----------  ----------  ----------\n",
    "dyer        William     Dyer\n",
    "pb          Frank       Pabodie\n",
    "lake        Anderson    Lake\n",
    "roe         Valentina   Roerich\n",
    "danforth    Frank       Danforth\n",
    "barrett     Mary        Barrett"
   ]
  },
  {
   "cell_type": "markdown",
   "metadata": {},
   "source": [
    "## Modifying Data\n",
    "\n",
    "So far we have only looked at how to get information out of a database, both because that is more frequent than adding information, and because most other operations only make sense once queries are understood."
   ]
  },
  {
   "cell_type": "markdown",
   "metadata": {},
   "source": [
    "Using the Survey databases, we can add, change, and remove records using our other set of commands, INSERT, UPDATE, and DELETE.\n",
    "\n",
    "The simplest form of INSERT statement lists values in order:"
   ]
  },
  {
   "cell_type": "raw",
   "metadata": {},
   "source": [
    "INSERT INTO Site VALUES('DR-1', -49.85, -128.57);\n",
    "INSERT INTO Site VALUES('DR-3', -47.15, -126.72);\n",
    "INSERT INTO Site VALUES('MSK-4', -48.87, -123.40);"
   ]
  },
  {
   "cell_type": "markdown",
   "metadata": {},
   "source": [
    "We can also insert values into one table directly from another:"
   ]
  },
  {
   "cell_type": "raw",
   "metadata": {},
   "source": [
    "CREATE TABLE JustLatLong(lat text, long text);\n",
    "INSERT INTO JustLatLong SELECT lat, long FROM Site;"
   ]
  },
  {
   "cell_type": "markdown",
   "metadata": {},
   "source": [
    "Modifying existing records is done using the UPDATE statement. To do this we tell the database which table we want to update, what we want to change the values to for any or all of the fields, and under what conditions we should update the values.\n",
    "\n",
    "For example, if we made a mistake when entering the lat and long values of the last INSERT statement above:"
   ]
  },
  {
   "cell_type": "raw",
   "metadata": {},
   "source": [
    "UPDATE Site SET lat = -47.87, long = -122.40 WHERE name = 'MSK-4';"
   ]
  },
  {
   "cell_type": "markdown",
   "metadata": {},
   "source": [
    "Be careful to not forget the WHERE clause or the update statement will modify all of the records in the database.\n",
    "\n",
    "Deleting records can be a bit trickier, because we have to ensure that the database remains internally consistent. If all we care about is a single table, we can use the DELETE command with a WHERE clause that matches the records we want to discard. For example, once we realize that Frank Danforth didn’t take any measurements, we can remove him from the Person table like this:"
   ]
  },
  {
   "cell_type": "raw",
   "metadata": {},
   "source": [
    "DELETE FROM Person WHERE id = 'danforth';"
   ]
  },
  {
   "cell_type": "markdown",
   "metadata": {},
   "source": [
    "But what if we removed Anderson Lake instead? Our Survey table would still contain seven records of measurements he’d taken, but that’s never supposed to happen: Survey.person is a foreign key into the Person table, and all our queries assume there will be a row in the latter matching every value in the former.\n",
    "\n",
    "This problem is called referential integrity: we need to ensure that all references between tables can always be resolved correctly. One way to do this is to delete all the records that use 'lake' as a foreign key before deleting the record that uses it as a primary key. \n",
    "\n",
    "Currently this database isn't designed to enforce integrity constraints. Let's fix that!"
   ]
  },
  {
   "cell_type": "markdown",
   "metadata": {},
   "source": [
    "\n",
    "## Creating Schemas\n",
    "\n",
    "The main commands for creating database tables are CREATE TABLE and DROP TABLE. While they are written as two words, they are actually single commands. The first one creates a new table; its arguments are the names and types of the table’s columns. \n",
    "\n",
    "For example, run the `.schema` command to see the four CREATE TABLE commands that created the survey database:"
   ]
  },
  {
   "cell_type": "raw",
   "metadata": {},
   "source": [
    "sqlite> .schema\n",
    "CREATE TABLE Person(id text, personal text, family text);\n",
    "CREATE TABLE Site(name text, lat real, long real);\n",
    "CREATE TABLE Visited(id integer, site text, dated text);\n",
    "CREATE TABLE Survey(taken integer, person text, quant text, reading real);"
   ]
  },
  {
   "cell_type": "markdown",
   "metadata": {},
   "source": [
    "This collection of CREATE TABLE statements is the actual SQL code used to create that database. It creates four tables (Person, Site, Visited, and Survey) and specifies various columns with names and data types. We can copy and paste these commands directly to create a new database with the same schema structure. Because the `.schema` command doesn't format things pretty, we will re-write the output below so we can read it better.\n",
    "\n",
    "\n",
    "Here is a more human friendly formatting style:\n",
    "```sql\n",
    "CREATE TABLE Person(\n",
    "    id text, \n",
    "    personal text, \n",
    "    family text\n",
    ");\n",
    "CREATE TABLE Site(\n",
    "    name text, \n",
    "    lat real, \n",
    "    long real\n",
    ");\n",
    "CREATE TABLE Visited(\n",
    "    id integer, \n",
    "    site text, \n",
    "    dated text\n",
    ");\n",
    "CREATE TABLE Survey(\n",
    "    taken integer, \n",
    "    person text, \n",
    "    quant text, \n",
    "    reading real\n",
    ");\n",
    "```\n",
    "\n",
    "Now you can clearly see this database has four *entities* and each has three or four *properties* (to use the language of relational databses). This is a visual representation of the database.\n",
    "\n",
    "![Diagram of the survey database](https://swcarpentry.github.io/sql-novice-survey/fig/sql-join-structure.svg)\n",
    "\n",
    "Currently this database has *implicit* relational structure. The Survey table doesn't explicitly make a connection between the tables, even though they are connected in the data itself. Let's take a look."
   ]
  },
  {
   "cell_type": "raw",
   "metadata": {},
   "source": [
    "sqlite> select * from Survey;\n",
    "taken       person      quant       reading\n",
    "----------  ----------  ----------  ----------\n",
    "619         dyer        rad         9.82\n",
    "619         dyer        sal         0.13\n",
    "622         dyer        rad         7.8\n",
    "622         dyer        sal         0.09\n",
    "734         pb          rad         8.41\n",
    "734         lake        sal         0.05\n",
    "734         pb          temp        -21.5\n",
    "735         pb          rad         7.22\n",
    "735                     sal         0.06\n",
    "735                     temp        -26.0\n",
    "751         pb          rad         4.35\n",
    "751         pb          temp        -18.5\n",
    "751         lake        sal         0.1\n",
    "752         lake        rad         2.19\n",
    "752         lake        sal         0.09\n",
    "752         lake        temp        -16.0\n",
    "752         roe         sal         41.6\n",
    "837         lake        rad         1.46\n",
    "837         lake        sal         0.21\n",
    "837         roe         sal         22.5\n",
    "844         roe         rad         11.25"
   ]
  },
  {
   "cell_type": "markdown",
   "metadata": {},
   "source": [
    "* Looking at the `taken` and `person` columns we can see they resemble identifiers or pointers to more complete information. If we look at the Person and Visited tables we can see how the data are connected."
   ]
  },
  {
   "cell_type": "raw",
   "metadata": {},
   "source": [
    "sqlite> select * from visited;\n",
    "id          site        dated\n",
    "----------  ----------  ----------\n",
    "619         DR-1        1927-02-08\n",
    "622         DR-1        1927-02-10\n",
    "734         DR-3        1930-01-07\n",
    "735         DR-3        1930-01-12\n",
    "751         DR-3        1930-02-26\n",
    "752         DR-3\n",
    "837         MSK-4       1932-01-14\n",
    "844         DR-1        1932-03-22"
   ]
  },
  {
   "cell_type": "markdown",
   "metadata": {},
   "source": [
    "* Looking at this table we can see the `site` column references yet another table. Let's keep following the thread of the data."
   ]
  },
  {
   "cell_type": "raw",
   "metadata": {},
   "source": [
    "sqlite> select * from site;\n",
    "name        lat         long\n",
    "----------  ----------  ----------\n",
    "DR-1        -49.85      -128.57\n",
    "DR-3        -47.15      -126.72\n",
    "MSK-4       -48.87      -123.4"
   ]
  },
  {
   "cell_type": "markdown",
   "metadata": {},
   "source": [
    "* This implicit connection in the data between the various tables is what enables us to do the "
   ]
  },
  {
   "cell_type": "raw",
   "metadata": {},
   "source": [
    "sqlite> select site.lat, site.long, visited.dated, survey.reading\n",
    "   ...> from site\n",
    "   ...> join visited on site.name = visited.site\n",
    "   ...> join survey on visited.id = survey.taken;\n",
    "lat         long        dated       reading\n",
    "----------  ----------  ----------  ----------\n",
    "-49.85      -128.57     1927-02-08  0.13\n",
    "-49.85      -128.57     1927-02-08  9.82\n",
    "-49.85      -128.57     1927-02-10  0.09\n",
    "-49.85      -128.57     1927-02-10  7.8\n",
    "-49.85      -128.57     1932-03-22  11.25\n",
    "-47.15      -126.72     1930-01-07  -21.5\n",
    "-47.15      -126.72     1930-01-07  0.05\n",
    "-47.15      -126.72     1930-01-07  8.41\n",
    "-47.15      -126.72     1930-01-12  -26.0\n",
    "-47.15      -126.72     1930-01-12  0.06\n",
    "-47.15      -126.72     1930-01-12  7.22\n",
    "-47.15      -126.72     1930-02-26  -18.5\n",
    "-47.15      -126.72     1930-02-26  0.1\n",
    "-47.15      -126.72     1930-02-26  4.35\n",
    "-47.15      -126.72                 -16.0\n",
    "-47.15      -126.72                 0.09\n",
    "-47.15      -126.72                 2.19\n",
    "-47.15      -126.72                 41.6\n",
    "-48.87      -123.4      1932-01-14  0.21\n",
    "-48.87      -123.4      1932-01-14  1.46\n",
    "-48.87      -123.4      1932-01-14  22.5"
   ]
  },
  {
   "cell_type": "markdown",
   "metadata": {},
   "source": [
    "* Without the explict schema defined *integrity constraints* baked into the relational structure of the database, then things like this can happen."
   ]
  },
  {
   "cell_type": "raw",
   "metadata": {},
   "source": [
    "INSERT INTO Survey VALUES(000,'matt','rad',0.0);"
   ]
  },
  {
   "cell_type": "raw",
   "metadata": {},
   "source": [
    "sqlite> select * from survey;\n",
    "taken       person      quant       reading\n",
    "----------  ----------  ----------  ----------\n",
    "619         dyer        rad         9.82\n",
    "619         dyer        sal         0.13\n",
    "622         dyer        rad         7.8\n",
    "622         dyer        sal         0.09\n",
    "734         pb          rad         8.41\n",
    "734         lake        sal         0.05\n",
    "734         pb          temp        -21.5\n",
    "735         pb          rad         7.22\n",
    "735                     sal         0.06\n",
    "735                     temp        -26.0\n",
    "751         pb          rad         4.35\n",
    "751         pb          temp        -18.5\n",
    "751         lake        sal         0.1\n",
    "752         lake        rad         2.19\n",
    "752         lake        sal         0.09\n",
    "752         lake        temp        -16.0\n",
    "752         roe         sal         41.6\n",
    "837         lake        rad         1.46\n",
    "837         lake        sal         0.21\n",
    "837         roe         sal         22.5\n",
    "844         roe         rad         11.25\n",
    "0           matt        rad         0.0\n"
   ]
  },
  {
   "cell_type": "markdown",
   "metadata": {},
   "source": [
    "* But there is no Person with an id 'matt'\n",
    "* Now we have data problems"
   ]
  },
  {
   "cell_type": "raw",
   "metadata": {},
   "source": [
    "sqlite> select * from person;\n",
    "id          personal    family\n",
    "----------  ----------  ----------\n",
    "dyer        William     Dyer\n",
    "pb          Frank       Pabodie\n",
    "lake        Anderson    Lake\n",
    "roe         Valentina   Roerich\n",
    "danforth    Frank       Danforth"
   ]
  },
  {
   "cell_type": "markdown",
   "metadata": {},
   "source": [
    "### Deleting Tables\n",
    "\n",
    "We can get rid of one of our tables using:"
   ]
  },
  {
   "cell_type": "raw",
   "metadata": {},
   "source": [
    "DROP TABLE Survey;"
   ]
  },
  {
   "cell_type": "markdown",
   "metadata": {},
   "source": [
    "Be very careful when doing this: if you drop the wrong table, hope that the person maintaining the database has a backup, but it’s better not to have to rely on it.\n",
    "\n",
    "Let's confirm the table has been removed."
   ]
  },
  {
   "cell_type": "raw",
   "metadata": {},
   "source": [
    "sqlite> .schema\n",
    "CREATE TABLE Person (id text, personal text, family text);\n",
    "CREATE TABLE Site (name text, lat real, long real);\n",
    "CREATE TABLE Visited (id integer, site text, dated text);"
   ]
  },
  {
   "cell_type": "markdown",
   "metadata": {},
   "source": [
    "Different database systems support different data types for table columns, but most provide the following: \n",
    "* INTEGER (a signed integer), \n",
    "* REAL (a floating point number), \n",
    "* TEXT (a character string), and \n",
    "* BLOB (a 'binary large object' such as an image).\n",
    "\n",
    "Most databases also support Booleans and date/time values; SQLite uses the integers 0 and 1 for the former, and represents the latter as strings. An increasing number of databases also support geographic data types, such as latitude and longitude. Keeping track of what particular systems do or do not offer, and what names they give different data types, is an unending portability headache.\n",
    "\n",
    "When we create a table, we can specify several kinds of constraints on its columns. For example, a better definition for the Survey and Person tables would be:"
   ]
  },
  {
   "cell_type": "raw",
   "metadata": {},
   "source": [
    "PRAGMA foreign_keys=ON;\n",
    "\n",
    "DROP TABLE IF EXISTS Person;\n",
    "\n",
    "CREATE TABLE Person(\n",
    "    id text not null,\n",
    "    personal text,\n",
    "    family text,\n",
    "    primary key (id));\n",
    "\n",
    "DROP TABLE IF EXISTS Survey;\n",
    "\n",
    "CREATE TABLE Survey(\n",
    "    taken   integer not null, -- where reading taken\n",
    "    person  text,             -- may not know who took it\n",
    "    quant   text not null,    -- the quantity measured\n",
    "    reading real not null,    -- the actual reading\n",
    "    primary key(taken, quant),\n",
    "    foreign key(person) references Person(id)\n",
    ");"
   ]
  },
  {
   "cell_type": "markdown",
   "metadata": {},
   "source": [
    "Let's break the `CREATE TABLE Survey` statement down.\n",
    "* First, we create a `taken` column that is an integer number and specify the column can't have null values.\n",
    "* Second, we create a `person` column that contains text values.\n",
    "* Third, we create a `quant` column that also contains text values, but also can't have null values.\n",
    "* Forth, we createa a `reading` column that is a floating point number and can't have null values.\n",
    "* Fifth, we specify a primary key constraint that is made up of both the `taken` and `quant` values because the combination of these two values will be unique for each row. \n",
    "* Sixth, we create a foreign key constraint that creates explicit structural connections between each row in the Survey table with a row in the Person table. This features is what puts the *relational* in relational databases."
   ]
  },
  {
   "cell_type": "markdown",
   "metadata": {},
   "source": [
    "By specifying Primary and Foreign Keys we have made the relationships between the tables *explicit* and can be sure that when we enter data into the database (discussed below) we won't enter bad data (like creating a Survey referencing a person whose ID doesn't exist in in the Person table. Both of these mechanisms allow you to express a way of structurally specifying the integrity of the databsae when you create it. This is helpful because now you don't have to write as much error checking code when you are pulling data out! You can rest easy knowing that database system will do data cleaning for you.\n",
    "\n",
    "![Rest Easy Pig](https://media.giphy.com/media/G5wGy8pDEtAek/giphy.gif)\n",
    "\n",
    "Exactly what constraints are available and what they’re called depends on which database system we are using."
   ]
  },
  {
   "cell_type": "raw",
   "metadata": {},
   "source": [
    "insert into survey values(000,'matt','rad',0.0);"
   ]
  },
  {
   "cell_type": "raw",
   "metadata": {},
   "source": [
    "insert into person values('matt','Matthew','Burton');"
   ]
  },
  {
   "cell_type": "raw",
   "metadata": {},
   "source": [
    "insert into survey values (000,'matt','rad',0.0);"
   ]
  },
  {
   "cell_type": "markdown",
   "metadata": {},
   "source": [
    "## Key Points:\n",
    "- Use INSERT to add data.\n",
    "- Use UPDATE to modify existing data.\n",
    "- Use DELETE to remove data.\n",
    "- Use CREATE and DROP to create and delete tables.\n",
    "- It is simpler and safer to modify data when every record has a unique primary key."
   ]
  },
  {
   "cell_type": "code",
   "execution_count": null,
   "metadata": {},
   "outputs": [],
   "source": []
  }
 ],
 "metadata": {
  "kernelspec": {
   "display_name": "Python 3.7",
   "language": "python",
   "name": "python3"
  },
  "language_info": {
   "codemirror_mode": {
    "name": "ipython",
    "version": 3
   },
   "file_extension": ".py",
   "mimetype": "text/x-python",
   "name": "python",
   "nbconvert_exporter": "python",
   "pygments_lexer": "ipython3",
   "version": "3.7.0"
  }
 },
 "nbformat": 4,
 "nbformat_minor": 4
}
