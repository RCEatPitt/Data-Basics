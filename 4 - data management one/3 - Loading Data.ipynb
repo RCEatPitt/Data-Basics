{
 "cells": [
  {
   "cell_type": "markdown",
   "metadata": {},
   "source": [
    "# Reading Files into a Dataframe\n",
    "\n",
    "* Once your data is in a Pandas `DataFrame` you can easily use a ton of analytical tools\n",
    "* You just have to get your data to fit into a dataframe\n",
    "* Getting data to fit is a big part of the \"data janitor\" work...it is the craft of data carpentry\n",
    "* However, as we will see, there is still a lot of carpentry work to do once your data fits into a `DataFrame`"
   ]
  },
  {
   "cell_type": "code",
   "execution_count": null,
   "metadata": {},
   "outputs": [],
   "source": [
    "# load pandas\n",
    "import pandas as pd"
   ]
  },
  {
   "cell_type": "markdown",
   "metadata": {},
   "source": [
    "### Open the file and load it into memory\n",
    "\n",
    "* Pandas provides some very handy functions for reading in CSV files."
   ]
  },
  {
   "cell_type": "code",
   "execution_count": null,
   "metadata": {},
   "outputs": [],
   "source": [
    "# look at a CSV files using the unix command head\n",
    "!head community-center-attendance.csv"
   ]
  },
  {
   "cell_type": "markdown",
   "metadata": {},
   "source": [
    "* This is how we open a CSV file with pure Python"
   ]
  },
  {
   "cell_type": "code",
   "execution_count": null,
   "metadata": {},
   "outputs": [],
   "source": [
    "# Load up the CSV module\n",
    "import csv\n",
    "\n",
    "# open a file hander\n",
    "file_handler = open('community-center-attendance.csv')\n",
    "# Load the file into the CSV module\n",
    "reader = csv.reader(file_handler)\n",
    "\n",
    "# read the headers first\n",
    "headers = next(reader)\n",
    "\n",
    "# Read all the data into a variable as a list. look ma! one line!\n",
    "center_attendance_python = [row for row in reader]\n",
    "\n",
    "# close the file handler for good hygiene \n",
    "file_handler.close()\n",
    "\n",
    "# print headesr\n",
    "print(headers)\n",
    "\n",
    "# display the first five rows \n",
    "center_attendance_python[0:5]"
   ]
  },
  {
   "cell_type": "markdown",
   "metadata": {},
   "source": [
    "* We could load these into a dataframe using the dataframe syntax we just learned"
   ]
  },
  {
   "cell_type": "code",
   "execution_count": null,
   "metadata": {},
   "outputs": [],
   "source": [
    "center_attendence_pandas = pd.DataFrame(center_attendance_python, columns=headers)\n",
    "center_attendence_pandas"
   ]
  },
  {
   "cell_type": "markdown",
   "metadata": {},
   "source": [
    "* Pandas can do this much easier using the `read_csv()` function"
   ]
  },
  {
   "cell_type": "code",
   "execution_count": null,
   "metadata": {},
   "outputs": [],
   "source": [
    "# Open up the csv file directly with pandas \n",
    "center_attendance_pandas = pd.read_csv(\"community-center-attendance.csv\", \n",
    "                                       index_col=\"_id\") # use the column named _id as the row index\n",
    "# Display the first five rows\n",
    "center_attendance_pandas.iloc[0:5]"
   ]
  },
  {
   "cell_type": "markdown",
   "metadata": {},
   "source": [
    "* Notice that Pandas figured out there is a header row and it create a row index from one of the columns\n",
    "* Pandas also has a special function, `head(n)` for looking at the first *n* rows in a dataframe"
   ]
  },
  {
   "cell_type": "code",
   "execution_count": null,
   "metadata": {},
   "outputs": [],
   "source": [
    "# Use the head function to look at the \"head\" \n",
    "# of the dataframe. Default is 5 rows.\n",
    "center_attendance_pandas.head()"
   ]
  },
  {
   "cell_type": "code",
   "execution_count": null,
   "metadata": {},
   "outputs": [],
   "source": [
    "# Use the head function to look at the \"head\" \n",
    "# of the dataframe. Default is 5 rows.\n",
    "center_attendance_pandas.head(10)"
   ]
  },
  {
   "cell_type": "markdown",
   "metadata": {},
   "source": [
    "* Notice the index starts at 1 instead of zero, that is because we told Pandas to use the \"_id\" column as the row index.\n",
    "* This is when it is important to understand the difference between `loc` and `iloc`"
   ]
  },
  {
   "cell_type": "code",
   "execution_count": null,
   "metadata": {},
   "outputs": [],
   "source": [
    "# Select row by index name\n",
    "center_attendance_pandas.loc[1]"
   ]
  },
  {
   "cell_type": "code",
   "execution_count": null,
   "metadata": {},
   "outputs": [],
   "source": [
    "# Select row by index location\n",
    "center_attendance_pandas.iloc[1]"
   ]
  },
  {
   "cell_type": "markdown",
   "metadata": {},
   "source": [
    "---"
   ]
  },
  {
   "cell_type": "markdown",
   "metadata": {},
   "source": [
    "## Writing CSV Files\n",
    "\n",
    "* If you have your data loaded into a Dataframe you can easily write it to a file with the `to_csv()` method\n",
    "* There are also functions for writing to a bunch of different datatypes (excel, json, sql, etc.)\n"
   ]
  },
  {
   "cell_type": "code",
   "execution_count": null,
   "metadata": {},
   "outputs": [],
   "source": [
    "# create a list of lists, each sub-list is an observation/row\n",
    "dead_people_list = [\n",
    "    [1,\"Bob\",\"Jones\",200],\n",
    "    [2,\"Jane\",\"Jones\",199],\n",
    "    [3,\"Ethel\",\"Jones\",180],\n",
    "    [4,\"Hortense\",\"Jones\",178],\n",
    "    [5,\"Vern\",\"Jones\",178]\n",
    "]\n",
    "\n",
    "# specify the column names seperately\n",
    "column_names = [\"ssn\",\"first_name\", \"last_name\", \"age\"]\n",
    "\n",
    "# make a Dataframe with column names specified separately\n",
    "dead_people = pd.DataFrame(dead_people_list, columns=column_names)\n",
    "dead_people"
   ]
  },
  {
   "cell_type": "code",
   "execution_count": null,
   "metadata": {},
   "outputs": [],
   "source": [
    "# use the to_csv function to write it to a file\n",
    "dead_people.to_csv(\"dead_people.csv\", index=False)"
   ]
  },
  {
   "cell_type": "code",
   "execution_count": null,
   "metadata": {},
   "outputs": [],
   "source": [
    "!head dead_people.csv"
   ]
  },
  {
   "cell_type": "markdown",
   "metadata": {},
   "source": [
    "---"
   ]
  }
 ],
 "metadata": {
  "kernelspec": {
   "display_name": "Python 3.7",
   "language": "python",
   "name": "python3"
  },
  "language_info": {
   "codemirror_mode": {
    "name": "ipython",
    "version": 3
   },
   "file_extension": ".py",
   "mimetype": "text/x-python",
   "name": "python",
   "nbconvert_exporter": "python",
   "pygments_lexer": "ipython3",
   "version": "3.7.0"
  }
 },
 "nbformat": 4,
 "nbformat_minor": 2
}
