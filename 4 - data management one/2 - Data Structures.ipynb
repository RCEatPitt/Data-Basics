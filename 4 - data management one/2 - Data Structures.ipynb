{
 "cells": [
  {
   "cell_type": "markdown",
   "metadata": {},
   "source": [
    "## Introduction to Pandas Data Structures\n",
    "\n",
    "* To understand Pandas, which is hard, it is helpful to start the data structures it adds to Python:\n",
    "    * Series - For one dimensional data (lists) \n",
    "    * Dataframe - For two dimensional data (spreadsheets)\n",
    "    * Index - For naming, selecting, and transforming data within a Pandas Series or Dataframe (column and row names)"
   ]
  },
  {
   "cell_type": "code",
   "execution_count": null,
   "metadata": {},
   "outputs": [],
   "source": [
    "# import pandas\n",
    "import pandas as pd"
   ]
  },
  {
   "cell_type": "markdown",
   "metadata": {},
   "source": [
    "---"
   ]
  },
  {
   "cell_type": "markdown",
   "metadata": {},
   "source": [
    "## Series\n",
    "\n",
    "* A one-dimensional array of indexed data\n",
    "* Kind of like a blend of a Python list and dictionary\n",
    "* You can create them from a Python list\n"
   ]
  },
  {
   "cell_type": "code",
   "execution_count": null,
   "metadata": {
    "collapsed": true
   },
   "outputs": [],
   "source": [
    "# creating a series using the top-level pandas function\n",
    "# Put the cursor inside the parentheses and hit shift-enter\n",
    "pd.Series()"
   ]
  },
  {
   "cell_type": "code",
   "execution_count": null,
   "metadata": {},
   "outputs": [],
   "source": [
    "# Create a regular Python list\n",
    "my_list = [0.25, 0.5, 0.75, 1.0]\n",
    "\n",
    "# Transform that list into a Series\n",
    "data = pd.Series(my_list)\n",
    "\n",
    "# Display the data in the series\n",
    "data"
   ]
  },
  {
   "cell_type": "markdown",
   "metadata": {},
   "source": [
    "* A Series is a list-like structure, which means it is *ordered* \n",
    "* You can use indexing to grab items in a Series, just like a list\n",
    "* Those numbers next to the other numbers, that is the *index* to the series\n",
    "* It is best to use the `iloc` method to grab elements by their location in the series."
   ]
  },
  {
   "cell_type": "code",
   "execution_count": null,
   "metadata": {},
   "outputs": [],
   "source": [
    "# grab the first element\n",
    "data[0]"
   ]
  },
  {
   "cell_type": "code",
   "execution_count": null,
   "metadata": {},
   "outputs": [],
   "source": [
    "# grab the first element using iloc\n",
    "data.iloc[0]"
   ]
  },
  {
   "cell_type": "code",
   "execution_count": null,
   "metadata": {},
   "outputs": [],
   "source": [
    "# grab the 4th elemenet\n",
    "data.iloc[3]"
   ]
  },
  {
   "cell_type": "markdown",
   "metadata": {},
   "source": [
    "#### Quick Exercise\n",
    "* How might we grab the *last* element if we didn't know the length of the list?"
   ]
  },
  {
   "cell_type": "code",
   "execution_count": null,
   "metadata": {},
   "outputs": [],
   "source": [
    "# hint: think small\n",
    "data.iloc[???]\n"
   ]
  },
  {
   "cell_type": "markdown",
   "metadata": {},
   "source": [
    "* Also, like lists, you can use *slicing* notation to grab sub-lists\n",
    "* Again, it is best to use the `.iloc` method\n",
    "\n",
    "#### Quick Exercise\n",
    "\n",
    "* Use slices to grab the 2nd and 3rd elements of this series"
   ]
  },
  {
   "cell_type": "code",
   "execution_count": null,
   "metadata": {},
   "outputs": [],
   "source": [
    "# hint: the 2nd & 3rd elements are 0.50 and 0.75\n",
    "# your code below\n",
    "data.iloc[???]\n"
   ]
  },
  {
   "cell_type": "markdown",
   "metadata": {},
   "source": [
    "### Index by name\n",
    "\n",
    "* Series also act like Python dictionaries, *ordered* python dictionaries\n",
    "* This means you can grab things by name in addition to location"
   ]
  },
  {
   "cell_type": "code",
   "execution_count": null,
   "metadata": {},
   "outputs": [],
   "source": [
    "# Create a regular Python Dictionary\n",
    "population_dict = {'California': 38332521,\n",
    "                   'Texas': 26448193,\n",
    "                   'New York': 19651127,\n",
    "                   'Florida': 19552860,\n",
    "                   'Illinois': 12882135}\n",
    "\n",
    "# Transform that dictionary into a Series \n",
    "population = pd.Series(population_dict)\n",
    "\n",
    "# Display the data\n",
    "population"
   ]
  },
  {
   "cell_type": "markdown",
   "metadata": {},
   "source": [
    "* You can also create a named series with multiple lists\n",
    "* The names and values will be aligned based on the implicit numeric index"
   ]
  },
  {
   "cell_type": "code",
   "execution_count": null,
   "metadata": {},
   "outputs": [],
   "source": [
    "# create two ordered lists\n",
    "population_list = [38332521, 26448193, 19651127, 19552860, 12882135]\n",
    "states = ['California', 'Texas', 'New York', 'Florida', 'Illinois']\n",
    "\n",
    "# Create a Series from those two lists\n",
    "population = pd.Series(population_list, index=states)\n",
    "\n",
    "# display the data\n",
    "population"
   ]
  },
  {
   "cell_type": "markdown",
   "metadata": {},
   "source": [
    "* You can use indexing and slicing like above, but now with keys instead of numbers!\n",
    "* It is best to use the `.loc` method when looking up things by name instead of by number\n"
   ]
  },
  {
   "cell_type": "code",
   "execution_count": null,
   "metadata": {},
   "outputs": [],
   "source": [
    "# get a value using basic index notation\n",
    "population['California']"
   ]
  },
  {
   "cell_type": "code",
   "execution_count": null,
   "metadata": {},
   "outputs": [],
   "source": [
    "# basic slicing can be ambitious about names or index values\n",
    "population[0]"
   ]
  },
  {
   "cell_type": "code",
   "execution_count": null,
   "metadata": {},
   "outputs": [],
   "source": [
    "# select the data value with the name \"California\"\n",
    "population.loc['California']"
   ]
  },
  {
   "cell_type": "code",
   "execution_count": null,
   "metadata": {},
   "outputs": [],
   "source": [
    "# What happens if you try an use a name when it wants\n",
    "population.iloc['California']"
   ]
  },
  {
   "cell_type": "markdown",
   "metadata": {},
   "source": [
    "* Like a Python dictionary, a Series is a list of key/value pairs\n",
    "* But these are *ordered*, which means you can do slicing"
   ]
  },
  {
   "cell_type": "markdown",
   "metadata": {},
   "source": [
    "#### Quick Exercise\n",
    "\n",
    "* Try slicing this series, but with names instead of numbers!\n",
    "* Select a subset of the data using the Python slicing notation\n",
    "* Don't forget, use `loc`!"
   ]
  },
  {
   "cell_type": "code",
   "execution_count": null,
   "metadata": {},
   "outputs": [],
   "source": [
    "# Hint: Use the same : notation, but use the state names listed above\n",
    "# Your code here:\n",
    "\n",
    "population.loc[????]"
   ]
  },
  {
   "cell_type": "code",
   "execution_count": null,
   "metadata": {},
   "outputs": [],
   "source": [
    "# Try some numeric slicing if you'd like\n",
    "\n",
    "population.iloc[???]"
   ]
  },
  {
   "cell_type": "markdown",
   "metadata": {},
   "source": [
    "---"
   ]
  },
  {
   "cell_type": "markdown",
   "metadata": {},
   "source": [
    "## DataFrame\n",
    "\n",
    "* `DataFrames` are the real workhorse of Pandas and Python Data Science\n",
    "* We will be spending a lot of time with data inside of Dataframes, so buckle up!\n",
    "* `DataFrames` contain two-dimensional data, just like an Excel spreadsheet\n",
    "* In practice, a `DataFrame` is a bunch of `Series` lined up next to each other"
   ]
  },
  {
   "cell_type": "code",
   "execution_count": null,
   "metadata": {},
   "outputs": [],
   "source": [
    "# Start with our population Series\n",
    "population"
   ]
  },
  {
   "cell_type": "code",
   "execution_count": null,
   "metadata": {},
   "outputs": [],
   "source": [
    "# Then create another Series for the area\n",
    "area_dict = {'Illinois': 149995, 'California': 423967, \n",
    "             'Texas': 695662, 'Florida': 170312, \n",
    "             'New York': 141297}\n",
    "area = pd.Series(area_dict)\n",
    "area"
   ]
  },
  {
   "cell_type": "code",
   "execution_count": null,
   "metadata": {},
   "outputs": [],
   "source": [
    "# Create a dictionary with a key:value for each column\n",
    "state_info_dictionary = {'population': population,\n",
    "                       'area': area}\n",
    "\n",
    "# Now mash them together into a DataFrame\n",
    "states = pd.DataFrame(state_info_dictionary)\n",
    "# Display the data\n",
    "states"
   ]
  },
  {
   "cell_type": "markdown",
   "metadata": {},
   "source": [
    "* Pandas automatically lines everything up because they have shared index values\n",
    "* You can also create Dataframes row by row if your data is more horizontally oriented"
   ]
  },
  {
   "cell_type": "code",
   "execution_count": null,
   "metadata": {},
   "outputs": [],
   "source": [
    "# create a list of dictionaries that contain our data.\n",
    "# one dictionary per observation/row\n",
    "dead_people = [\n",
    "    {\"ssn\":1, \"first_name\": \"Bob\", \"last_name\": \"Jones\", \"age\": 200},\n",
    "    {\"ssn\":2, \"first_name\": \"Jane\", \"last_name\": \"Jones\", \"age\": 199},\n",
    "    {\"ssn\":3, \"first_name\": \"Ethel\", \"last_name\": \"Jones\", \"age\": 180},\n",
    "    {\"ssn\":4, \"first_name\": \"Hortense\", \"last_name\": \"Jones\", \"age\": 178},\n",
    "    {\"ssn\":5, \"first_name\": \"Vern\", \"last_name\": \"Jones\", \"age\": 178}\n",
    "]\n",
    "\n",
    "# create a Dataframe from a list of dictionaries\n",
    "pd.DataFrame(dead_people)"
   ]
  },
  {
   "cell_type": "code",
   "execution_count": null,
   "metadata": {},
   "outputs": [],
   "source": [
    "# create a list of lists, each sub-list is an observation/row\n",
    "dead_people = [\n",
    "    [1,\"Bob\",\"Jones\",200],\n",
    "    [2,\"Jane\",\"Jones\",199],\n",
    "    [3,\"Ethel\",\"Jones\",180],\n",
    "    [4,\"Hortense\",\"Jones\",178],\n",
    "    [5,\"Vern\",\"Jones\",178]\n",
    "]\n",
    "\n",
    "# specify the column names seperately\n",
    "column_names = [\"ssn\",\"first_name\", \"last_name\", \"age\"]\n",
    "\n",
    "# make a Dataframe with column names specified separately\n",
    "pd.DataFrame(dead_people, columns=column_names)"
   ]
  },
  {
   "cell_type": "code",
   "execution_count": null,
   "metadata": {},
   "outputs": [],
   "source": [
    "# create a list of lists, each sub-list is an observation/row\n",
    "dead_people = [\n",
    "    [1,\"Bob\",\"Jones\",200],\n",
    "    [2,\"Jane\",\"Jones\",199],\n",
    "    [3,\"Ethel\",\"Jones\",180],\n",
    "    [4,\"Hortense\",\"Jones\",178],\n",
    "    [5,\"Vern\",\"Jones\",178]\n",
    "]\n",
    "\n",
    "# specify the column names seperately\n",
    "column_names = [\"ssn\",\"first_name\", \"last_name\", \"age\"]\n",
    "\n",
    "row_ids = [123,3452,3235,4345,563463]\n",
    "\n",
    "# make a Dataframe with column names specified separately\n",
    "dead_dataframe = pd.DataFrame(dead_people, columns=column_names, index=row_ids)\n",
    "dead_dataframe"
   ]
  },
  {
   "cell_type": "markdown",
   "metadata": {},
   "source": [
    "* Using the slicing notation will give you specific columns from the dataframe"
   ]
  },
  {
   "cell_type": "code",
   "execution_count": null,
   "metadata": {},
   "outputs": [],
   "source": [
    "dead_dataframe[\"first_name\"]"
   ]
  },
  {
   "cell_type": "markdown",
   "metadata": {},
   "source": [
    "* Getting a subset of columns is a bit counter intuitive..."
   ]
  },
  {
   "cell_type": "code",
   "execution_count": null,
   "metadata": {},
   "outputs": [],
   "source": [
    "dead_dataframe[\"first_name\",\"last_name\"]"
   ]
  },
  {
   "cell_type": "markdown",
   "metadata": {},
   "source": [
    "* You need to pass the Dataframe a list of column names"
   ]
  },
  {
   "cell_type": "code",
   "execution_count": null,
   "metadata": {},
   "outputs": [],
   "source": [
    "dead_dataframe[[\"first_name\",\"last_name\"]]"
   ]
  },
  {
   "cell_type": "markdown",
   "metadata": {},
   "source": [
    "---"
   ]
  },
  {
   "cell_type": "markdown",
   "metadata": {},
   "source": [
    "## Index\n",
    "\n",
    "* Pandas `Series` and `DataFrames` are containers for data\n",
    "* The Index (and Indexing) is the mechanism to make that data retrievable\n",
    "* In a `Series` the index is the key to each value in the list\n",
    "* In a `DataFrame` the index is the column names, but there is also an index for each row\n",
    "* Indexing allows you to merge or join disparate datasets together"
   ]
  },
  {
   "cell_type": "code",
   "execution_count": null,
   "metadata": {},
   "outputs": [],
   "source": [
    "states"
   ]
  },
  {
   "cell_type": "markdown",
   "metadata": {},
   "source": [
    "* You can programmatically access the column and row lables by calling the following functions"
   ]
  },
  {
   "cell_type": "code",
   "execution_count": null,
   "metadata": {},
   "outputs": [],
   "source": [
    "# get the column lables as a list-like data structure\n",
    "states.columns"
   ]
  },
  {
   "cell_type": "code",
   "execution_count": null,
   "metadata": {},
   "outputs": [],
   "source": [
    "# get the row labls as a list-like data structure\n",
    "states.index"
   ]
  },
  {
   "cell_type": "markdown",
   "metadata": {},
   "source": [
    "* The `loc` method I talked about above allows us to select specific rows and columns *by name*.\n",
    "* Use the syntax `[<row>,<column>]` with index values"
   ]
  },
  {
   "cell_type": "code",
   "execution_count": null,
   "metadata": {},
   "outputs": [],
   "source": [
    "# Get the value of the population column from Illinois\n",
    "states.loc[\"Illinois\", \"population\"]"
   ]
  },
  {
   "cell_type": "markdown",
   "metadata": {},
   "source": [
    "* We can also be tricky and use more advanced syntax to do more advanced queries.\n",
    "* You can do any kind of list slicing in place of `<row>` or `<column>` to slice rows and columns"
   ]
  },
  {
   "cell_type": "code",
   "execution_count": null,
   "metadata": {},
   "outputs": [],
   "source": [
    "# Get the area for states from Florida to Texas\n",
    "# this is two dimensional slicing\n",
    "states.loc[\"Florida\":\"Texas\", \"area\"]"
   ]
  },
  {
   "cell_type": "code",
   "execution_count": null,
   "metadata": {},
   "outputs": [],
   "source": [
    "# Get the area for Florida and Texas\n",
    "# Use a list to select multiple specific values\n",
    "states.loc[[\"Florida\", \"Texas\"], \"area\"]"
   ]
  },
  {
   "cell_type": "code",
   "execution_count": null,
   "metadata": {},
   "outputs": [],
   "source": [
    "# Get area and population for Florida and Texas\n",
    "# use a \":\" to specify \"all columns\"\n",
    "states.loc[[\"Florida\", \"Texas\"], :]"
   ]
  },
  {
   "cell_type": "code",
   "execution_count": null,
   "metadata": {},
   "outputs": [],
   "source": [
    "# select all the rows and columns\n",
    "states.loc[:,:]"
   ]
  },
  {
   "cell_type": "markdown",
   "metadata": {},
   "source": [
    "* What is happening here is we are passing a list of names for the rows, and using the colon \":\" to say \"all columns\n",
    "* We can do the same thing with column numbers using `iloc`"
   ]
  },
  {
   "cell_type": "code",
   "execution_count": null,
   "metadata": {},
   "outputs": [],
   "source": [
    "# Get the area for states from Florida to Texas\n",
    "# this is two dimensional slicing\n",
    "states.iloc[1:, 1]"
   ]
  },
  {
   "cell_type": "code",
   "execution_count": null,
   "metadata": {},
   "outputs": [],
   "source": [
    "# Get the area for Florida and Texas\n",
    "# Use a list to select multiple specific values\n",
    "states.iloc[[1, 4], 1]"
   ]
  },
  {
   "cell_type": "code",
   "execution_count": null,
   "metadata": {},
   "outputs": [],
   "source": [
    "# Get the area for Florida and Texas\n",
    "# Use a list to select multiple specific values\n",
    "states.iloc[[1, -1], 1]"
   ]
  },
  {
   "cell_type": "code",
   "execution_count": null,
   "metadata": {},
   "outputs": [],
   "source": [
    "# Get area and population for Florida and Texas\n",
    "# use a \":\" to specify \"all columns\"\n",
    "states.iloc[[1, -1], :]"
   ]
  },
  {
   "cell_type": "markdown",
   "metadata": {},
   "source": [
    "* If you wanted to iterate over your dataframe row by row you can use the `iterrows()` function "
   ]
  },
  {
   "cell_type": "code",
   "execution_count": null,
   "metadata": {},
   "outputs": [],
   "source": [
    "for index, row in states.iterrows():\n",
    "    print(index)\n",
    "    print(row)\n",
    "    print() # print a blank line"
   ]
  },
  {
   "cell_type": "markdown",
   "metadata": {},
   "source": [
    "---"
   ]
  },
  {
   "cell_type": "markdown",
   "metadata": {},
   "source": [
    "## Exercise\n",
    "\n",
    "* Using the `iloc` and slicing syntax slice the following dataframe based on the highlighted blocks in the image\n",
    "* first think of the slicing syntax to grab just the rows you want THEN think of the slicing syntax for the columns you want\n",
    "* Put the row slices *before* the comma and the column slices *after* the comma"
   ]
  },
  {
   "cell_type": "code",
   "execution_count": null,
   "metadata": {},
   "outputs": [],
   "source": [
    "# This is our example Dataframe\n",
    "indexing_example = pd.DataFrame([[1,2,3],[4,5,6],[7,8,9]])\n",
    "indexing_example"
   ]
  },
  {
   "cell_type": "markdown",
   "metadata": {},
   "source": [
    "![first slice exercise](images/indexing1.png)\n",
    "* Select the second two columns of the first two rows."
   ]
  },
  {
   "cell_type": "code",
   "execution_count": null,
   "metadata": {},
   "outputs": [],
   "source": [
    "# Put the slicing syntax in your answer here\n",
    "indexing_example.iloc[???]"
   ]
  },
  {
   "cell_type": "code",
   "execution_count": null,
   "metadata": {},
   "outputs": [],
   "source": [
    "# scratch space\n"
   ]
  },
  {
   "cell_type": "markdown",
   "metadata": {},
   "source": [
    "![first slice exercise](images/indexing2.png)\n",
    "* Select the third row"
   ]
  },
  {
   "cell_type": "code",
   "execution_count": null,
   "metadata": {},
   "outputs": [],
   "source": [
    "# Put the slicing syntax in your answer here\n",
    "indexing_example.iloc[???]"
   ]
  },
  {
   "cell_type": "code",
   "execution_count": null,
   "metadata": {},
   "outputs": [],
   "source": [
    "# scratch space\n"
   ]
  },
  {
   "cell_type": "markdown",
   "metadata": {},
   "source": [
    "![first slice exercise](images/indexing3.png)\n",
    "* Select the first two columns"
   ]
  },
  {
   "cell_type": "code",
   "execution_count": null,
   "metadata": {},
   "outputs": [],
   "source": [
    "# Put the slicing syntax in your answer here\n",
    "indexing_example.iloc[???]"
   ]
  },
  {
   "cell_type": "code",
   "execution_count": null,
   "metadata": {},
   "outputs": [],
   "source": [
    "# scratch space\n"
   ]
  },
  {
   "cell_type": "markdown",
   "metadata": {},
   "source": [
    "![first slice exercise](images/indexing4.png)\n",
    "* Select the first two columns of the second row"
   ]
  },
  {
   "cell_type": "code",
   "execution_count": null,
   "metadata": {},
   "outputs": [],
   "source": [
    "# Put the slicing syntax in your answer here\n",
    "indexing_example.iloc[???]"
   ]
  },
  {
   "cell_type": "code",
   "execution_count": null,
   "metadata": {},
   "outputs": [],
   "source": [
    "# scratch space\n"
   ]
  },
  {
   "cell_type": "code",
   "execution_count": null,
   "metadata": {},
   "outputs": [],
   "source": []
  },
  {
   "cell_type": "code",
   "execution_count": null,
   "metadata": {},
   "outputs": [],
   "source": []
  },
  {
   "cell_type": "code",
   "execution_count": null,
   "metadata": {},
   "outputs": [],
   "source": []
  },
  {
   "cell_type": "code",
   "execution_count": null,
   "metadata": {},
   "outputs": [],
   "source": []
  },
  {
   "cell_type": "code",
   "execution_count": null,
   "metadata": {},
   "outputs": [],
   "source": []
  },
  {
   "cell_type": "code",
   "execution_count": null,
   "metadata": {},
   "outputs": [],
   "source": []
  },
  {
   "cell_type": "code",
   "execution_count": null,
   "metadata": {},
   "outputs": [],
   "source": []
  },
  {
   "cell_type": "markdown",
   "metadata": {},
   "source": [
    "## Exercise Solutions\n",
    "\n",
    "* Using the `iloc` and slicing syntax slice the following dataframe based on the highlighted blocks in the image\n",
    "* first think of the slicing syntax to grab just the rows you want THEN think of the slicing syntax for the columns you want\n",
    "* Put the row slices *before* the comma and the column slices *after* the comma"
   ]
  },
  {
   "cell_type": "code",
   "execution_count": null,
   "metadata": {},
   "outputs": [],
   "source": [
    "# This is our example Dataframe\n",
    "indexing_example = pd.DataFrame([[1,2,3],[4,5,6],[7,8,9]])\n",
    "indexing_example"
   ]
  },
  {
   "cell_type": "markdown",
   "metadata": {},
   "source": [
    "![first slice exercise](images/indexing1.png)\n",
    "* Select the second two columns of the first two rows."
   ]
  },
  {
   "cell_type": "code",
   "execution_count": null,
   "metadata": {},
   "outputs": [],
   "source": [
    "# Put the slicing syntax in your answer here\n",
    "indexing_example.iloc[:2, 1:]"
   ]
  },
  {
   "cell_type": "code",
   "execution_count": null,
   "metadata": {},
   "outputs": [],
   "source": [
    "# scratch space\n"
   ]
  },
  {
   "cell_type": "markdown",
   "metadata": {},
   "source": [
    "![first slice exercise](images/indexing2.png)\n",
    "* Select the third row"
   ]
  },
  {
   "cell_type": "code",
   "execution_count": null,
   "metadata": {},
   "outputs": [],
   "source": [
    "# Put the slicing syntax in your answer here\n",
    "indexing_example.iloc[2, :]"
   ]
  },
  {
   "cell_type": "code",
   "execution_count": null,
   "metadata": {},
   "outputs": [],
   "source": [
    "# scratch space\n"
   ]
  },
  {
   "cell_type": "markdown",
   "metadata": {},
   "source": [
    "![first slice exercise](images/indexing3.png)\n",
    "* Select the first two columns"
   ]
  },
  {
   "cell_type": "code",
   "execution_count": null,
   "metadata": {},
   "outputs": [],
   "source": [
    "# Put the slicing syntax in your answer here\n",
    "indexing_example.iloc[:,:2]"
   ]
  },
  {
   "cell_type": "code",
   "execution_count": null,
   "metadata": {},
   "outputs": [],
   "source": [
    "# scratch space\n"
   ]
  },
  {
   "cell_type": "markdown",
   "metadata": {},
   "source": [
    "![first slice exercise](images/indexing4.png)\n",
    "* Select the first two columns of the second row"
   ]
  },
  {
   "cell_type": "code",
   "execution_count": null,
   "metadata": {},
   "outputs": [],
   "source": [
    "# Put the slicing syntax in your answer here\n",
    "indexing_example.iloc[1,:2]"
   ]
  },
  {
   "cell_type": "code",
   "execution_count": null,
   "metadata": {},
   "outputs": [],
   "source": [
    "# scratch space\n"
   ]
  },
  {
   "cell_type": "markdown",
   "metadata": {},
   "source": [
    "---"
   ]
  }
 ],
 "metadata": {
  "kernelspec": {
   "display_name": "Python 3.7",
   "language": "python",
   "name": "python3"
  },
  "language_info": {
   "codemirror_mode": {
    "name": "ipython",
    "version": 3
   },
   "file_extension": ".py",
   "mimetype": "text/x-python",
   "name": "python",
   "nbconvert_exporter": "python",
   "pygments_lexer": "ipython3",
   "version": "3.7.0"
  }
 },
 "nbformat": 4,
 "nbformat_minor": 2
}
