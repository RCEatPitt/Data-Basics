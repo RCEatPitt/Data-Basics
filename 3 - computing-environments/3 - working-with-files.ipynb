{
 "cells": [
  {
   "cell_type": "markdown",
   "metadata": {},
   "source": [
    "# Working With Files and Directories\n",
    "\n",
    "### Questions\n",
    "* How can I create, copy, and delete files and directories?\n",
    "* How can I edit files?\n",
    "\n",
    "### Objectives\n",
    "* Create a directory hierarchy that matches a given diagram.\n",
    "* Create files in that hierarchy using an editor or by copying and renaming existing files.\n",
    "* Delete, copy and move specified files and/or directories."
   ]
  },
  {
   "cell_type": "markdown",
   "metadata": {},
   "source": [
    "## Creating Directories\n",
    "\n",
    "We now know how to explore files and directories, but how do we create them in the first place? Let's go back to our `data-shell` directory in the data-basics folder and use `ls -F` to see what it contains:\n",
    "\n",
    "```bash\n",
    "$ pwd\n",
    "/ihome/mburton/mcburton/data-basics-spring-2020/data-shell\n",
    "```\n",
    "\n",
    "```bash\n",
    "$ ls -F\n",
    "creatures/  data/  molecules/  north-pacific-gyre/  notes.txt  pizza.cfg  solar.pdf  writing/\n",
    "```\n",
    "\n",
    "Let's create a new directory called `thesis` using the command `mkdir thesis`\n",
    "(which has no output):\n",
    "\n",
    "```bash\n",
    "$ mkdir thesis\n",
    "```\n",
    "\n",
    "As you might guess from its name, `mkdir` means \"make directory\". Since `thesis` is a relative path (i.e., doesn't have a leading slash), the new directory is created in the current working directory:\n",
    "\n",
    "```bash\n",
    "$ ls -F\n",
    "creatures/  data/  molecules/  north-pacific-gyre/  notes.txt  pizza.cfg  solar.pdf  thesis/  writing/\n",
    "```"
   ]
  },
  {
   "cell_type": "markdown",
   "metadata": {},
   "source": [
    "> #### Two ways of doing the same thing\n",
    "> Using the shell to create a directory is no different than using a file explorer.\n",
    "> If you open the current directory using your operating system's graphical file explorer,\n",
    "> the `thesis` directory will appear there too.\n",
    "> While they are two different ways of interacting with the files,\n",
    "> the files and directories themselves are the same.\n",
    "\n",
    "> #### Good names for files and directories\n",
    ">\n",
    "> Complicated names of files and directories can make your life painful\n",
    "> when working on the command line. Here we provide a few useful\n",
    "> tips for the names of your files.\n",
    ">\n",
    "> 1. Don't use whitespaces.\n",
    ">\n",
    ">    Whitespaces can make a name more meaningful\n",
    ">    but since whitespace is used to break arguments on the command line\n",
    ">    it is better to avoid them in names of files and directories.\n",
    ">    You can use `-` or `_` instead of whitespace.\n",
    ">\n",
    "> 2. Don't begin the name with `-` (dash).\n",
    ">\n",
    ">    Commands treat names starting with `-` as options.\n",
    ">\n",
    "> 3. Stick with letters, numbers, `.` (period or 'full stop'), `-` (dash) and `_` (underscore).\n",
    ">\n",
    ">    Many other characters have special meanings on the command line.\n",
    ">    We will learn about some of these during this lesson.\n",
    ">    There are special characters that can cause your command to not work as\n",
    ">    expected and can even result in data loss.\n",
    ">\n",
    "> If you need to refer to names of files or directories that have whitespace\n",
    "> or another non-alphanumeric character, you should surround the name in quotes (`\"\"`)."
   ]
  },
  {
   "cell_type": "markdown",
   "metadata": {},
   "source": [
    "## Creating and Editing Files\n",
    "\n",
    "Since we've just created the `thesis` directory, there's nothing in it yet:\n",
    "\n",
    "```bash\n",
    "$ ls -F thesis\n",
    "```\n",
    "\n",
    "Let's change our working directory to `thesis` using `cd`,\n",
    "then run a text editor called Nano to create a file called `draft.txt`:\n",
    "\n",
    "```bash\n",
    "$ cd thesis\n",
    "$ vim draft.txt\n",
    "```"
   ]
  },
  {
   "cell_type": "markdown",
   "metadata": {},
   "source": [
    "> #### Which Editor?\n",
    ">\n",
    "> When we say, \"`vim` is a text editor,\" we really do mean \"text\": it can\n",
    "> only work with plain character data, not tables, images, or any other\n",
    "> human-friendly media. We use it in examples because it is always installed on every unix system. However, it is *extremely* difficult to use. On Unix systems (such as Linux and Mac OS X),\n",
    "> many programmers use [Emacs](http://www.gnu.org/software/emacs/) or\n",
    "> [Nano](https://www.nano-editor.org/). Because we are using JupyterLab we can just use Jupyter's [built in text editor](https://jupyterlab.readthedocs.io/en/stable/user/file_editor.html), but for the purposes of this lesson we are going to do everything on the terminal.\n",
    ">\n",
    "> We are using vim because it is the only terminal editor currently installed on the supercomputer."
   ]
  },
  {
   "cell_type": "markdown",
   "metadata": {},
   "source": [
    "You are now in the Vim editor. To begin entering text, you must first type the `i` key to enter *insert mode* (you know you are in this mode when you see `-- INSERT --` on the bottom of the terminal window.\n",
    "\n",
    "Let's type in a few lines of text, just don't hit the escape key...yet.\n",
    "Once we're happy with our text, we can press `esc` and type `:wq` to write our text to the `draft.txt` file on disk.\n",
    "\n",
    "~~~\n",
    "$ ls\n",
    "~~~\n",
    "\n",
    "~~~\n",
    "draft.txt\n",
    "~~~"
   ]
  },
  {
   "cell_type": "markdown",
   "metadata": {},
   "source": [
    "#### QUIZ: Creating Files a Different Way\n",
    "\n",
    "We have seen how to create text files using the `vim` editor.\n",
    "Now, try the following command in your home directory:\n",
    "\n",
    "```bash\n",
    "$ cd                  # go to your home directory\n",
    "$ touch my_file.txt\n",
    "```\n",
    "\n",
    "1.  What did the touch command do?\n",
    "    When you look at your home directory using the Jupyter file explorer, does the file show up? (you might need to hit the <span class=\"jp-RefreshIcon jp-Icon jp-Icon-16 jp-ToolbarButtonComponent-icon\"></span> button).\n",
    "\n",
    "2.  Use `ls -l` to inspect the files.  How large is `my_file.txt`?\n",
    "\n",
    "3.  When might you want to create a file this way?\n"
   ]
  },
  {
   "cell_type": "code",
   "execution_count": null,
   "metadata": {},
   "outputs": [],
   "source": []
  },
  {
   "cell_type": "code",
   "execution_count": null,
   "metadata": {},
   "outputs": [],
   "source": []
  },
  {
   "cell_type": "code",
   "execution_count": null,
   "metadata": {},
   "outputs": [],
   "source": []
  },
  {
   "cell_type": "code",
   "execution_count": null,
   "metadata": {},
   "outputs": [],
   "source": []
  },
  {
   "cell_type": "code",
   "execution_count": null,
   "metadata": {},
   "outputs": [],
   "source": []
  },
  {
   "cell_type": "code",
   "execution_count": null,
   "metadata": {},
   "outputs": [],
   "source": []
  },
  {
   "cell_type": "code",
   "execution_count": null,
   "metadata": {},
   "outputs": [],
   "source": []
  },
  {
   "cell_type": "code",
   "execution_count": null,
   "metadata": {},
   "outputs": [],
   "source": []
  },
  {
   "cell_type": "code",
   "execution_count": null,
   "metadata": {},
   "outputs": [],
   "source": []
  },
  {
   "cell_type": "code",
   "execution_count": null,
   "metadata": {},
   "outputs": [],
   "source": []
  },
  {
   "cell_type": "markdown",
   "metadata": {},
   "source": [
    "#### Solution\n",
    "1.  The touch command generates a new file called 'my_file.txt' in\n",
    "    your home directory.  If you are in your home directory, you\n",
    "    can observe this newly generated file by typing 'ls' at the \n",
    "    command line prompt.  'my_file.txt' can also be viewed in your\n",
    "    GUI file explorer.\n",
    "\n",
    "2.  When you inspect the file with 'ls -l', note that the size of\n",
    "    'my_file.txt' is 0kb.  In other words, it contains no data.\n",
    "    If you open 'my_file.txt' using your text editor it is blank.\n",
    "\n",
    "3.  Some programs do not generate output files themselves, but\n",
    "    instead require that empty files have already been generated.\n",
    "    When the program is run, it searches for an existing file to\n",
    "    populate with its output.  The touch command allows you to\n",
    "    efficiently generate a blank text file to be used by such\n",
    "    programs."
   ]
  },
  {
   "cell_type": "markdown",
   "metadata": {},
   "source": [
    "## Removing Files\n",
    "\n",
    "Returning to the `data-shell` directory, let's tidy up the `thesis` directory by removing the draft we created:\n",
    "\n",
    "```bash\n",
    "$ cd thesis\n",
    "$ rm draft.txt\n",
    "```\n",
    "\n",
    "This command removes files (`rm` is short for \"remove\"). If we run `ls` again, its output is empty once more, which tells us that our file is gone:\n",
    "\n",
    "```bash\n",
    "$ ls\n",
    "```"
   ]
  },
  {
   "cell_type": "markdown",
   "metadata": {},
   "source": [
    "> ### Deleting Is Forever\n",
    ">\n",
    "> The Unix shell doesn't have a trash bin that we can recover deleted\n",
    "> files from (though most graphical interfaces to Unix do).  Instead,\n",
    "> when we delete files, they are unhooked from the file system so that\n",
    "> their storage space on disk can be recycled. Tools for finding and\n",
    "> recovering deleted files do exist, but there's no guarantee they'll\n",
    "> work in any particular situation, since the computer may recycle the\n",
    "> file's disk space right away."
   ]
  },
  {
   "cell_type": "markdown",
   "metadata": {},
   "source": [
    "Let's re-create that file through the following steps:\n",
    "\n",
    "* Navigate to the `thesis` directory\n",
    "\n",
    "```bash\n",
    "$ pwd\n",
    "/ihome/mburton/mcburton/data-basics-spring-2020/data-shell/thesis\n",
    "```\n",
    "\n",
    "* Create an empty file\n",
    "\n",
    "```bash\n",
    "$ touch draft.txt\n",
    "$ ls\n",
    "\n",
    "draft.txt\n",
    "```\n",
    "\n",
    "* then move up one directory using `cd ..`:\n",
    "\n",
    "\n",
    "```bash\n",
    "$ cd ..\n",
    "```\n",
    "\n",
    "If we try to remove the entire `thesis` directory using `rm thesis`, we get an error message:\n",
    "\n",
    "```bash\n",
    "$ rm thesis\n",
    "rm: cannot remove `thesis': Is a directory\n",
    "```\n",
    "\n",
    "This happens because `rm` by default only works on files, not directories.\n",
    "\n",
    "To really get rid of `thesis` we must also delete the file `draft.txt`. \n",
    "\n",
    "We can do this with the [recursive](https://en.wikipedia.org/wiki/Recursion) option for `rm`:\n",
    "\n",
    "```bash\n",
    "$ rm -r thesis\n",
    "```"
   ]
  },
  {
   "cell_type": "markdown",
   "metadata": {},
   "source": [
    "> ### Using `rm` Safely\n",
    ">\n",
    "> What happens when we type `rm -i thesis/draft.txt`?\n",
    "> Why would we want this protection when using `rm`?\n",
    ">\n",
    " > ```\n",
    " > $ rm: remove regular file 'thesis/draft.txt'?\n",
    " > ```\n",
    " > The -i option will prompt before every removal. \n",
    " > The Unix shell doesn't have a trash bin, so all the files removed will disappear forever. \n",
    " > By using the -i flag, we have the chance to check that we are deleting only the files that we want to remove."
   ]
  },
  {
   "cell_type": "markdown",
   "metadata": {},
   "source": [
    "## Moving Files\n",
    "\n",
    "Let's create that directory and file one more time.\n",
    "(Note that this time we're running `vim` with the path `thesis/draft.txt`,\n",
    "rather than going into the `thesis` directory and running `vim` on `draft.txt` there.)\n",
    "\n",
    "```bash\n",
    "$ pwd\n",
    "/ihome/mburton/mcburton/data-basics-spring-2020/data-shell\n",
    "$ mkdir thesis\n",
    "$ vim thesis/draft.txt\n",
    "$ ls thesis\n",
    "draft.txt\n",
    "```\n",
    "\n",
    "The file `draft.txt` isn't a particularly informative name, so let's change the file's name using `mv`, which is short for \"move\":\n",
    "\n",
    "```bash\n",
    "$ mv thesis/draft.txt thesis/quotes.txt\n",
    "```\n",
    "\n",
    "The first argument tells `mv` what file we're \"moving\", while the second argument is where it's to go. In this case, we're moving `thesis/draft.txt` to `thesis/quotes.txt`, which has the same effect as renaming the file. Sure enough, `ls` shows us that `thesis` now contains one file called `quotes.txt`:\n",
    "\n",
    "```bash\n",
    "$ ls thesis\n",
    "quotes.txt\n",
    "```\n",
    "\n",
    "One has to be careful when specifying the target file name, since `mv` will silently overwrite any existing file with the same name, which could lead to data loss. An additional flag, `mv -i` (or `mv --interactive`), can be used to make `mv` ask you for confirmation before overwriting.\n",
    "\n",
    "The `mv` also works on directories.\n",
    "\n",
    "Let's move `quotes.txt` into the current working directory. We use `mv` once again, but this time we'll just use the name of a directory as the second argument to tell `mv` that we want to keep the filename, but put the file somewhere new. (This is why the command is called \"move\".) In this case, the directory name we use is the special directory name `.` that we mentioned earlier.\n",
    "\n",
    "```bash\n",
    "$ mv thesis/quotes.txt .\n",
    "```\n",
    "\n",
    "The effect is to move the file from the directory it was in to the current working directory. The `ls` command now shows us that `thesis` is empty:\n",
    "\n",
    "```bash\n",
    "$ ls thesis\n",
    "```\n",
    "\n",
    "Further, `ls` with a filename or directory name as an argument only lists that file or directory. We can use this to see that `quotes.txt` is still in our current directory:\n",
    "\n",
    "```bash\n",
    "$ ls quotes.txt\n",
    "quotes.txt\n",
    "```\n",
    "\n",
    "The `cp` command works very much like `mv`, except it copies a file instead of moving it. We can check that it did the right thing using `ls` with two paths as arguments --- like most Unix commands, `ls` can be given multiple paths at once:\n",
    "\n",
    "```bash\n",
    "$ cp quotes.txt thesis/quotations.txt\n",
    "$ ls quotes.txt thesis/quotations.txt\n",
    "quotes.txt   thesis/quotations.txt\n",
    "```\n",
    "\n",
    "To prove that we made a copy, let's delete the `quotes.txt` file in the current directory and then run that same `ls` again.\n",
    "\n",
    "```bash\n",
    "$ rm quotes.txt\n",
    "$ ls quotes.txt thesis/quotations.txt\n",
    "ls: cannot access quotes.txt: No such file or directory\n",
    "thesis/quotations.txt\n",
    "```\n",
    "\n",
    "This time it tells us that it can't find `quotes.txt` in the current directory, but it does find the copy in `thesis` that we didn't delete."
   ]
  },
  {
   "cell_type": "markdown",
   "metadata": {},
   "source": [
    "> #### What's In A Name?\n",
    ">\n",
    "> You may have noticed that all of our files' names are \"something dot\n",
    "> something\", and in this part of the lesson, we always used the extension\n",
    "> `.txt`.  This is just a convention: we can call a file `mythesis` or\n",
    "> almost anything else we want. However, most people use two-part names\n",
    "> most of the time to help them (and their programs) tell different kinds\n",
    "> of files apart. The second part of such a name is called the\n",
    "> **filename extension**, and indicates\n",
    "> what type of data the file holds: `.txt` signals a plain text file, `.pdf`\n",
    "> indicates a PDF document, `.py` is a python file with code\n",
    "> for a program , `.png` is a PNG image, and so on.\n",
    ">\n",
    "> This is just a convention, albeit an important one. Files contain\n",
    "> bytes: it's up to us and our programs to interpret those bytes\n",
    "> according to the rules for plain text files, PDF documents, configuration\n",
    "> files, images, and so on.\n",
    ">\n",
    "> Naming a PNG image of a whale as `whale.mp3` doesn't somehow\n",
    "> magically turn it into a recording of whalesong, though it *might*\n",
    "> cause the operating system to try to open it with a music player\n",
    "> when someone double-clicks it."
   ]
  },
  {
   "cell_type": "markdown",
   "metadata": {},
   "source": [
    "#### QUIZ: Renaming Files\n",
    "\n",
    "Suppose that you created a `.txt` file in your current directory to contain a list of the\n",
    "statistical tests you will need to do to analyze your data, and named it: `statstics.txt`\n",
    "\n",
    "Try it: run `touch statstics.txt`\n",
    "\n",
    "After creating and saving this file you realize you misspelled the filename! You want to\n",
    "correct the mistake, which of the following commands could you use to do so?\n",
    "\n",
    "Try it: Run the following commands\n",
    "\n",
    "1. `cp statstics.txt statistics.txt`\n",
    "2. `mv statstics.txt statistics.txt`\n",
    "3. `mv statstics.txt .`\n",
    "4. `cp statstics.txt .`"
   ]
  },
  {
   "cell_type": "code",
   "execution_count": null,
   "metadata": {},
   "outputs": [],
   "source": []
  },
  {
   "cell_type": "code",
   "execution_count": null,
   "metadata": {},
   "outputs": [],
   "source": []
  },
  {
   "cell_type": "code",
   "execution_count": null,
   "metadata": {},
   "outputs": [],
   "source": []
  },
  {
   "cell_type": "code",
   "execution_count": null,
   "metadata": {},
   "outputs": [],
   "source": []
  },
  {
   "cell_type": "code",
   "execution_count": null,
   "metadata": {},
   "outputs": [],
   "source": []
  },
  {
   "cell_type": "code",
   "execution_count": null,
   "metadata": {},
   "outputs": [],
   "source": []
  },
  {
   "cell_type": "code",
   "execution_count": null,
   "metadata": {},
   "outputs": [],
   "source": []
  },
  {
   "cell_type": "code",
   "execution_count": null,
   "metadata": {},
   "outputs": [],
   "source": []
  },
  {
   "cell_type": "code",
   "execution_count": null,
   "metadata": {},
   "outputs": [],
   "source": []
  },
  {
   "cell_type": "code",
   "execution_count": null,
   "metadata": {},
   "outputs": [],
   "source": []
  },
  {
   "cell_type": "markdown",
   "metadata": {},
   "source": [
    "#### Solution\n",
    "1. No.  While this would create a file with the correct name, the incorrectly named file still exists in the directory\n",
    "and would need to be deleted.\n",
    "2. Yes, this would work to rename the file.\n",
    "3. No, the period(.) indicates where to move the file, but does not provide a new file name; identical file names\n",
    "cannot be created.\n",
    "4. No, the period(.) indicates where to copy the file, but does not provide a new file name; identical file names\n",
    "cannot be created."
   ]
  },
  {
   "cell_type": "markdown",
   "metadata": {},
   "source": [
    "#### QUIZ: Moving and Copying\n",
    "\n",
    "What is the output of the closing `ls` command in the sequence shown below?\n",
    "\n",
    "```bash\n",
    "$ pwd\n",
    "/Users/jamie/data\n",
    "```\n",
    "\n",
    "```bash\n",
    "$ ls\n",
    "proteins.dat\n",
    "```\n",
    "\n",
    "```bash\n",
    "$ mkdir recombine\n",
    "$ mv proteins.dat recombine/\n",
    "$ cp recombine/proteins.dat ../proteins-saved.dat\n",
    "$ ls\n",
    "```\n",
    "\n",
    "\n",
    "1.   `proteins-saved.dat recombine`\n",
    "2.   `recombine`\n",
    "3.   `proteins.dat recombine`\n",
    "4.   `proteins-saved.dat`\n"
   ]
  },
  {
   "cell_type": "code",
   "execution_count": null,
   "metadata": {},
   "outputs": [],
   "source": []
  },
  {
   "cell_type": "code",
   "execution_count": null,
   "metadata": {},
   "outputs": [],
   "source": []
  },
  {
   "cell_type": "code",
   "execution_count": null,
   "metadata": {},
   "outputs": [],
   "source": []
  },
  {
   "cell_type": "code",
   "execution_count": null,
   "metadata": {},
   "outputs": [],
   "source": []
  },
  {
   "cell_type": "code",
   "execution_count": null,
   "metadata": {},
   "outputs": [],
   "source": []
  },
  {
   "cell_type": "code",
   "execution_count": null,
   "metadata": {},
   "outputs": [],
   "source": []
  },
  {
   "cell_type": "code",
   "execution_count": null,
   "metadata": {},
   "outputs": [],
   "source": []
  },
  {
   "cell_type": "code",
   "execution_count": null,
   "metadata": {},
   "outputs": [],
   "source": []
  },
  {
   "cell_type": "code",
   "execution_count": null,
   "metadata": {},
   "outputs": [],
   "source": []
  },
  {
   "cell_type": "code",
   "execution_count": null,
   "metadata": {},
   "outputs": [],
   "source": []
  },
  {
   "cell_type": "markdown",
   "metadata": {},
   "source": [
    "#### Solution\n",
    "We start in the `/Users/jamie/data` directory, and create a new folder called `recombine`.\n",
    "The second line moves (`mv`) the file `proteins.dat` to the new folder (`recombine`).\n",
    "The third line makes a copy of the file we just moved.  The tricky part here is where the file was\n",
    "copied to.  Recall that `..` means \"go up a level\", so the copied file is now in `/Users/jamie`.\n",
    "Notice that `..` is interpreted with respect to the current working\n",
    "directory, **not** with respect to the location of the file being copied.\n",
    "So, the only thing that will show using ls (in `/Users/jamie/data`) is the recombine folder.\n",
    "\n",
    "1. No, see explanation above.  `proteins-saved.dat` is located at `/Users/jamie`\n",
    "2. Yes\n",
    "3. No, see explanation above.  `proteins.dat` is located at `/Users/jamie/data/recombine`\n",
    "4. No, see explanation above.  `proteins-saved.dat` is located at `/Users/jamie`"
   ]
  },
  {
   "cell_type": "markdown",
   "metadata": {},
   "source": [
    "#### EXERCISE: Copy with Multiple Filenames\n",
    "\n",
    "\n",
    "In the example below, what does `cp` do when given several filenames and a directory name?\n",
    "\n",
    "```bash\n",
    "$ mkdir backup\n",
    "$ cp amino-acids.txt animals.txt backup/\n",
    "```\n",
    "\n",
    "In the example below, what does `cp` do when given three or more file names?\n",
    "\n",
    "```bash\n",
    "$ ls -F\n",
    "amino-acids.txt  animals.txt  backup/  elements/  morse.txt  pdb/  planets.txt  salmon.txt  sunspot.txt\n",
    "```\n",
    "\n",
    "```bash\n",
    "$ cp amino-acids.txt animals.txt morse.txt \n",
    "```\n",
    "\n",
    "**Try it:** For this exercise, test the commands in the `data-shell/data` directory. \n"
   ]
  },
  {
   "cell_type": "code",
   "execution_count": null,
   "metadata": {},
   "outputs": [],
   "source": []
  },
  {
   "cell_type": "code",
   "execution_count": null,
   "metadata": {},
   "outputs": [],
   "source": []
  },
  {
   "cell_type": "code",
   "execution_count": null,
   "metadata": {},
   "outputs": [],
   "source": []
  },
  {
   "cell_type": "code",
   "execution_count": null,
   "metadata": {},
   "outputs": [],
   "source": []
  },
  {
   "cell_type": "code",
   "execution_count": null,
   "metadata": {},
   "outputs": [],
   "source": []
  },
  {
   "cell_type": "code",
   "execution_count": null,
   "metadata": {},
   "outputs": [],
   "source": []
  },
  {
   "cell_type": "code",
   "execution_count": null,
   "metadata": {},
   "outputs": [],
   "source": []
  },
  {
   "cell_type": "code",
   "execution_count": null,
   "metadata": {},
   "outputs": [],
   "source": []
  },
  {
   "cell_type": "code",
   "execution_count": null,
   "metadata": {},
   "outputs": [],
   "source": []
  },
  {
   "cell_type": "code",
   "execution_count": null,
   "metadata": {},
   "outputs": [],
   "source": []
  },
  {
   "cell_type": "markdown",
   "metadata": {},
   "source": [
    "#### Solution\n",
    "If given more than one file name followed by a directory name (i.e. the destination directory must \n",
    "be the last argument), `cp` copies the files to the named directory.\n",
    "\n",
    "If given three file names, `cp` throws an error because it is expecting a directory\n",
    "name as the last argument.\n",
    "\n",
    "```\n",
    "cp: target ‘morse.txt’ is not a directory\n",
    "```"
   ]
  },
  {
   "cell_type": "markdown",
   "metadata": {},
   "source": [
    "### Wildcard Patterns\n",
    "\n",
    "The `*` symbol is a **wildcard pattern**. It matches zero or more characters, so `*.pdb` matches `ethane.pdb`, `propane.pdb`, and every file that ends with '.pdb'. On the other hand, `p*.pdb` only matches `pentane.pdb` and `propane.pdb`, because the 'p' at the front only matches filenames that begin with the letter 'p'.\n",
    "\n",
    "```bash\n",
    "$ pwd\n",
    "/ihome/mburton/mcburton/data-basics-spring-2018-one/data-shell/data\n",
    "```\n",
    "\n",
    "```bash\n",
    "$ ls *.txt\n",
    "amino-acids.txt  animals.txt  morse.txt  planets.txt  salmon.txt  sunspot.txt\n",
    "```\n",
    "\n",
    "`?` is also a wildcard, but it only matches a single character. This means that `p?.pdb` would match files with names like `pi.pdb` or `p5.pdb` , but not `propane.pdb`. \n",
    "\n",
    "We can use any number of wildcards at a time: for example, `p*.p?*` matches anything that starts with a 'p' and ends with '.', 'p', and at least one more character (since the `?` has to match one character, and the final `*` can match any number of characters). Thus, `p*.p?*` would match `preferred.practice`, and even `p.pi` (since the first `*` can match no characters at all), but not `quality.practice` (doesn't start with 'p') or `preferred.p` (there isn't at least one character after the '.p').\n",
    "\n",
    "When the shell sees a wildcard, it expands the wildcard to create a list of matching filenames *before* running the command specified. As an exception, if a wildcard expression does not match any file, Bash will pass the expression as an argument to the command as it is. For example typing `ls *.pdf` in the `molecules` directory (which contains only files with names ending with `.pdb`) results in an error message that there is no file called `*.pdf`. \n",
    "\n",
    "Generally commands like `ls` see the lists of file names matching these expressions, but not the wildcards themselves. It is the shell, not the other programs, that deals with expanding wildcards, and this is another example of orthogonal design."
   ]
  },
  {
   "cell_type": "markdown",
   "metadata": {},
   "source": [
    "#### QUIZ: Using Wildcards\n",
    "\n",
    "When run in the `molecules` directory, which `ls` command(s) will\n",
    "produce this output?\n",
    "\n",
    "`ethane.pdb   methane.pdb`\n",
    "\n",
    "1. `ls *t*ane.pdb`\n",
    "2. `ls *t?ne.*`\n",
    "3. `ls *t??ne.pdb`\n",
    "4. `ls ethane.*`\n",
    "\n",
    "**Try it:** See what each command outputs."
   ]
  },
  {
   "cell_type": "code",
   "execution_count": null,
   "metadata": {},
   "outputs": [],
   "source": []
  },
  {
   "cell_type": "code",
   "execution_count": null,
   "metadata": {},
   "outputs": [],
   "source": []
  },
  {
   "cell_type": "code",
   "execution_count": null,
   "metadata": {},
   "outputs": [],
   "source": []
  },
  {
   "cell_type": "code",
   "execution_count": null,
   "metadata": {},
   "outputs": [],
   "source": []
  },
  {
   "cell_type": "code",
   "execution_count": null,
   "metadata": {},
   "outputs": [],
   "source": []
  },
  {
   "cell_type": "code",
   "execution_count": null,
   "metadata": {},
   "outputs": [],
   "source": []
  },
  {
   "cell_type": "code",
   "execution_count": null,
   "metadata": {},
   "outputs": [],
   "source": []
  },
  {
   "cell_type": "code",
   "execution_count": null,
   "metadata": {},
   "outputs": [],
   "source": []
  },
  {
   "cell_type": "markdown",
   "metadata": {},
   "source": [
    "#### Solution\n",
    "  The solution is `3.`\n",
    "\n",
    " `1.` shows all files whose names contain zero or more characters (`*`) followed by the letter `t`, then zero or more characters (`*`) followed by `ane.pdb`. This gives `ethane.pdb  methane.pdb  octane.pdb  pentane.pdb`. \n",
    "\n",
    " `2.` shows all files whose names start with zero or more characters (`*`) followed by the letter `t`, then a single character (`?`), then `ne.` followed by zero or more characters (`*`). This will give us `octane.pdb` and `pentane.pdb` but doesn't match anything which ends in `thane.pdb`.\n",
    "\n",
    " `3.` fixes the problems of option 2 by matching two characters (`??`) between `t` and `ne`. This is the solution.\n",
    "\n",
    " `4.` only shows files starting with `ethane.`.\n",
    "{: .solution}\n",
    " .challenge}"
   ]
  },
  {
   "cell_type": "markdown",
   "metadata": {},
   "source": [
    "---"
   ]
  },
  {
   "cell_type": "markdown",
   "metadata": {},
   "source": [
    "## Key Points\n",
    "\n",
    "* `cp old_file new_file` copies a file.\n",
    "* `mkdir path` creates a new directory.\n",
    "* `mv old new` moves (renames) a file or directory.\n",
    "* `rm path` removes (deletes) a file.\n",
    "* `*` matches zero or more characters in a filename, so `*.txt` matches all files ending in `.txt`.\n",
    "* `?` matches any single character in a filename, so `?.txt` matches `a.txt` but not `any.txt`.\n",
    "* The shell does not have a trash bin: once something is deleted, it’s really gone.\n",
    "* Your choice of text editor says a lot about who you are as a person"
   ]
  }
 ],
 "metadata": {
  "kernelspec": {
   "display_name": "Python 3.7",
   "language": "python",
   "name": "python3"
  },
  "language_info": {
   "codemirror_mode": {
    "name": "ipython",
    "version": 3
   },
   "file_extension": ".py",
   "mimetype": "text/x-python",
   "name": "python",
   "nbconvert_exporter": "python",
   "pygments_lexer": "ipython3",
   "version": "3.7.0"
  }
 },
 "nbformat": 4,
 "nbformat_minor": 4
}
