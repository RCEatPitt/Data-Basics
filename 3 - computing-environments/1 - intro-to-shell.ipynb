{
 "cells": [
  {
   "cell_type": "markdown",
   "metadata": {},
   "source": [
    "# Introducing the Shell\n",
    "\n",
    "## Background\n",
    "\n",
    "At a high level, computers do four things:\n",
    "\n",
    "* run programs\n",
    "* store data\n",
    "* communicate with themselves\n",
    "* interact with us\n",
    "\n",
    "They can do the last of these in many different ways:\n",
    "* Through a keyboard and mouse, \n",
    "* Touch screen interfaces, \n",
    "* Even speech recognition systems. \n",
    "\n",
    "We are all familiar with **graphical user interfaces** (GUI): windows, icons and pointers. They are easy to learn and fantastic for simple tasks where a vocabulary consisting of “click” translates easily into “do the thing I want”. But this magic relies on wanting a simple set of things, and having programs that can do exactly those things.\n",
    "\n",
    "If you wish to do complex, purpose-specific things it helps to have a richer means of expressing your instructions to the computer. It doesn’t need to be complicated or difficult, just a vocabulary of commands and a simple grammar for using them.\n",
    "\n",
    "* The shell provides - a simple language and a *command-line interface* to control the computer.\n",
    "\n",
    "The heart of a command-line interface is a **read-evaluate-print loop** (REPL). It is called so because when you type a command and press Return the shell reads your command, evaluates (or “executes”) it, prints the output of your command, loops back and waits for you to enter another command.\n",
    "\n",
    "* It is like having a chat conversation with your computer."
   ]
  },
  {
   "cell_type": "markdown",
   "metadata": {},
   "source": [
    "## The Shell\n",
    "\n",
    "* A shell is a program.\n",
    "* Its job is to *run other programs* \n",
    "* The most popular Unix shell is Bash, the Bourne Again SHell (so-called because it’s derived from a shell written by Stephen Bourne). \n",
    "* Bash is the default shell on most modern implementations of Unix and Linux\n",
    "\n",
    "### What does it look like?\n",
    "\n",
    "A typical shell window looks something like:\n",
    "\n",
    "```\n",
    "bash-3.2$ \n",
    "bash-3.2$ ls -F / \n",
    "Applications/         System/\n",
    "Library/              Users/\n",
    "Network/              Volumes/\n",
    "bash-3.2$\n",
    "```\n",
    "\n",
    "* The first line shows only a **prompt**, indicating that the shell is waiting for input. \n",
    "* when typing commands, either from these lessons or from other tutorials, *do not type the prompt*, only the commands that follow it.\n",
    "\n",
    "The part that you type, `ls -F /` in the second line of the example, typically has the following structure: a **command**, some **flags** (also called options or switches) and an **argument**. \n",
    "* Flags start with a single dash (`-`) or two dashes (`--`), and change the behaviour of a command. Arguments tell the command what to operate on (e.g. files and directories). \n",
    "* Sometimes flags and arguments are referred to as parameters. \n",
    "* A command can be called with more than one flag and more than one argument: but a command doesn’t always require an argument or a flag.\n",
    "\n",
    "In the second line of the example above, our **command** is `ls`, with a **flag** `-F` and an **argument** `/`. Each part is separated by spaces: if you omit the space between `ls` and `-F` the shell will look for a command called `ls-F`, which doesn’t exist. Also, capitalization matters: `LS` is different to `ls`.\n",
    "\n",
    "Next we see the output that our command produced. In this case it is a listing of files and folders in a location called `/` - we’ll cover what all these mean later today. Those using a macOS might recognize the output in this example.\n",
    "\n",
    "Finally, the shell again prints the prompt and waits for you to type the next command.\n",
    "\n",
    "#### Anatomy of a shell command\n",
    "\n",
    "```bash\n",
    "<command> -<flags> --<other flags> <argument1> <argument2>\n",
    "```"
   ]
  },
  {
   "cell_type": "markdown",
   "metadata": {},
   "source": [
    "## JupyterLab Shell Demonstration\n",
    "\n",
    "In the JupyterLab window go to `File -> New -> Terminal`. This will open a terminal prompt on the supercomputer. You will use this terminal to follow along with the exercises.\n",
    "\n",
    "In the Terminal window and try entering `ls -F /` for yourself (don’t forget that spaces and capitalization are important!). "
   ]
  },
  {
   "cell_type": "markdown",
   "metadata": {},
   "source": [
    "## How does the shell know what `ls` and its flags mean?\n",
    "\n",
    "Every command is a program stored somewhere on the computer, and the shell keeps a list of places to search for commands (the list is in a *variable* called `PATH`, but those are concepts we’ll meet later and are not too important at the moment). Recall that commands, flags and arguments are separated by spaces.\n",
    "\n",
    "So let’s look at the REPL (read-evaluate-print loop) in more detail. Notice that the “evaluate” step is made of two parts:\n",
    "\n",
    "1. Read what was typed (`ls -F /` in our example)\n",
    "2. Evaluate:\n",
    "    1. Find the program called `ls`\n",
    "    2. Execute it, passing it the flags and arguments (`-F` and `/`) to interpret as the program sees fit\n",
    "3. Print the output produced by the program\n",
    "4. Display a new prompt\n",
    "\n",
    "### Command not found\n",
    "\n",
    "If the shell can’t find a program whose name is the command you typed, it will print an error message like:\n",
    "\n",
    "```\n",
    "$ls-F\n",
    "-bash: ls-F: command not found\n",
    "```\n",
    "\n",
    "Usually this means that you have mis-typed the command - in this case we omitted the space between `ls` and `-F`."
   ]
  },
  {
   "cell_type": "markdown",
   "metadata": {},
   "source": [
    "### Is it difficult?\n",
    "\n",
    "\n",
    "* It is a different model of interacting than a GUI, and that will take some effort - and some time - to learn. \n",
    "* A **command line interface** (CLI) lets you compose combinations of commands and parameters, kind of like programming. \n",
    "* The challenge with CLIs are the commands are not presented to you so you must memorize a few, like learning some vocabulary in a new language. \n",
    "* A small number of commands gets you a long way, and we'll cover those essential few today.\n",
    "\n",
    "### Flexibility and automation \n",
    "\n",
    "**Scripting**\n",
    "\n",
    "The grammar of a shell allows you to combine existing tools into powerful\n",
    "pipelines and handle large volumes of data automatically. Sequences of\n",
    "commands can be written into a ***bash script***, improving the reproducibility of \n",
    "workflows and allowing you to repeat them easily.\n",
    "\n",
    "**Remote Operation**\n",
    "\n",
    "In addition, the command line is often the easiest way to interact with remote machines and supercomputers. Familiarity with the shell is near essential to run a variety of specialized tools and resources including high-performance computing systems. As clusters and cloud computing systems become more popular for scientific data crunching, being able to interact with the shell is becoming a necessary skill. We can build on the command-line skills covered here to tackle a wide range of scientific questions and computational challenges."
   ]
  },
  {
   "cell_type": "markdown",
   "metadata": {},
   "source": [
    "---"
   ]
  },
  {
   "cell_type": "markdown",
   "metadata": {},
   "source": [
    "## Key Points\n",
    "\n",
    "* A shell is a program whose primary purpose is to read commands and run other programs.\n",
    "* The shell’s main advantages are its high action-to-keystroke ratio, its support for automating repetitive tasks, and its capacity to access networked machines.\n",
    "* The shell’s main disadvantages are its primarily textual nature and how cryptic its commands and operation can be."
   ]
  }
 ],
 "metadata": {
  "kernelspec": {
   "display_name": "Python 3.7",
   "language": "python",
   "name": "python3"
  },
  "language_info": {
   "codemirror_mode": {
    "name": "ipython",
    "version": 3
   },
   "file_extension": ".py",
   "mimetype": "text/x-python",
   "name": "python",
   "nbconvert_exporter": "python",
   "pygments_lexer": "ipython3",
   "version": "3.7.0"
  }
 },
 "nbformat": 4,
 "nbformat_minor": 2
}
