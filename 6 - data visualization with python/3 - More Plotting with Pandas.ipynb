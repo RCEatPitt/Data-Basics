{
 "cells": [
  {
   "cell_type": "markdown",
   "metadata": {},
   "source": [
    "# A litany of Pandas Plotting Examples\n",
    "\n",
    "* Pandas and Matplotlib provide a bunch of visualizations\n",
    "* "
   ]
  },
  {
   "cell_type": "code",
   "execution_count": null,
   "metadata": {},
   "outputs": [],
   "source": [
    "# load up the libraries we need\n",
    "\n",
    "%matplotlib inline\n",
    "import numpy as np              \n",
    "import pandas as pd"
   ]
  },
  {
   "cell_type": "code",
   "execution_count": null,
   "metadata": {},
   "outputs": [],
   "source": [
    "df = pd.read_csv(\"diabetes.csv\")\n",
    "# Drop the missing values rows\n",
    "df = df.dropna()\n",
    "df.head(5)"
   ]
  },
  {
   "cell_type": "markdown",
   "metadata": {},
   "source": [
    "## Density Plot\n",
    "\n",
    "* Visualises the distribution of data over a continuous interval or time period\n",
    "* A variation of a Histogram that uses kernel smoothing to plot values, allowing for smoother distributions by smoothing out the noise. \n",
    "* The peaks of a Density Plot help display where values are concentrated over the interval.\n",
    "\n",
    "https://datavizcatalogue.com/methods/density_plot.html\n"
   ]
  },
  {
   "cell_type": "code",
   "execution_count": null,
   "metadata": {},
   "outputs": [],
   "source": [
    "df[\"chol\"].plot.density()\n",
    "df[\"weight\"].plot.density();"
   ]
  },
  {
   "cell_type": "markdown",
   "metadata": {},
   "source": [
    "## Box Plot\n",
    "\n",
    "* A convenient way of visually displaying the data distribution through their quartiles\n",
    "* The lines extending parallel from the boxes are known as the whiskers and indicate variability outside the upper and lower quartiles. \n",
    "* Outliers are sometimes plotted as individual dots that are in-line with whiskers. \n"
   ]
  },
  {
   "cell_type": "code",
   "execution_count": null,
   "metadata": {},
   "outputs": [],
   "source": [
    "df[\"chol\"].plot.box();"
   ]
  },
  {
   "cell_type": "markdown",
   "metadata": {},
   "source": [
    "##  Histogram \n",
    "\n",
    "* Visualises the distribution of data over a continuous interval or certain time period. \n",
    "* Each bar in a histogram represents the tabulated frequency at each interval/bin.\n",
    "* Help give an estimate as to where values are concentrated, what the extremes are and whether there are any gaps or unusual values. \n",
    "\n",
    "https://datavizcatalogue.com/methods/histogram.html\n",
    "\n"
   ]
  },
  {
   "cell_type": "code",
   "execution_count": null,
   "metadata": {},
   "outputs": [],
   "source": [
    "df[\"chol\"].hist(bins=50);"
   ]
  },
  {
   "cell_type": "code",
   "execution_count": null,
   "metadata": {},
   "outputs": [],
   "source": [
    "# use the bins parameter to adjust the granularity\n",
    "df[\"chol\"].hist(bins=10);"
   ]
  },
  {
   "cell_type": "markdown",
   "metadata": {},
   "source": [
    "## Scatter Plot\n",
    "\n",
    "* Use a collection of points placed using Cartesian Coordinates to display values from two variables. \n",
    "* By displaying a variable in each axis, you can detect if a relationship or correlation between the two variables exists.\n",
    "\n",
    "https://datavizcatalogue.com/methods/scatterplot.html\n"
   ]
  },
  {
   "cell_type": "code",
   "execution_count": null,
   "metadata": {
    "scrolled": true
   },
   "outputs": [],
   "source": [
    "df.plot(kind='scatter', x='chol', y='weight', title=\"Cholesterol vs. Weight\");"
   ]
  },
  {
   "cell_type": "code",
   "execution_count": null,
   "metadata": {},
   "outputs": [],
   "source": [
    "# The c parameter may be given as the name of a column to provide colors for each point\n",
    "df.plot(kind='scatter', x='chol', y='weight', \n",
    "        c='stab.glu', \n",
    "        title=\"Cholesterol vs. Weight\");"
   ]
  },
  {
   "cell_type": "code",
   "execution_count": null,
   "metadata": {},
   "outputs": [],
   "source": [
    "# the s parameter can be used to adjust the size of the points\n",
    "df.plot(kind='scatter', x='chol', y='weight', \n",
    "        c='stab.glu', \n",
    "        s=df[\"age\"], \n",
    "        title=\"Cholesterol vs. Weight\");"
   ]
  },
  {
   "cell_type": "markdown",
   "metadata": {},
   "source": [
    "## Scatterplot Matrix\n",
    "\n",
    "Scatterplot matrices are a great way to roughly determine if you have a linear correlation between multiple variables. This is particularly helpful in pinpointing specific variables that might have similar correlations. https://www.r-bloggers.com/scatterplot-matrices/"
   ]
  },
  {
   "cell_type": "code",
   "execution_count": null,
   "metadata": {},
   "outputs": [],
   "source": [
    "from pandas.plotting import scatter_matrix\n",
    "scatter_matrix(df[['chol', 'stab.glu', 'hdl', 'ratio', 'glyhb']], # Make a scatter matrix of all columns\n",
    "               figsize=(30, 30), # Set plot size\n",
    "               diagonal='kde');  # Show distribution estimates on diagonal"
   ]
  },
  {
   "cell_type": "markdown",
   "metadata": {},
   "source": [
    "## Bubble Chart\n",
    "\n",
    "* Uses a Cartesian coordinate system to plot points along a grid where the X and Y axis are separate variables.\n",
    "* Each point is assigned a label or category \n",
    "* Each plotted point then represents a third variable by the area of its circle. \n",
    "* Colours can be used to distinguish between categories or used to represent an additional data variable. \n",
    "* Used to compare and show the relationships between categorised circles, by the use of positioning and proportions. \n",
    "* The overall picture can be use to analyse for patterns/correlations.\n",
    "\n",
    "\n"
   ]
  },
  {
   "cell_type": "code",
   "execution_count": null,
   "metadata": {},
   "outputs": [],
   "source": [
    "df.plot(kind='scatter', x='chol', y='weight', \n",
    "        c='hdl', \n",
    "        s=df['stab.glu'] / 2, \n",
    "        title=\"Cholesterol vs. Weight\");"
   ]
  },
  {
   "cell_type": "markdown",
   "metadata": {},
   "source": [
    "## Hexbin Plot \n",
    "\n",
    "\n",
    "* Hexbin plots can be a useful alternative to scatter plots or bubble charts if your data are too dense to plot each point individually.\n"
   ]
  },
  {
   "cell_type": "code",
   "execution_count": null,
   "metadata": {},
   "outputs": [],
   "source": [
    "# generate a hexbin plot\n",
    "df.plot.hexbin(x='chol', y='weight', gridsize=20);\n"
   ]
  },
  {
   "cell_type": "code",
   "execution_count": null,
   "metadata": {},
   "outputs": [],
   "source": [
    "# use the gridsize parameter to adjust the granularity\n",
    "df.plot.hexbin(x='chol', y='weight', gridsize=50);"
   ]
  },
  {
   "cell_type": "markdown",
   "metadata": {},
   "source": [
    "## Bar Chart\n",
    "\n",
    "* Uses either horizontal or vertical bars to show discrete, numerical comparisons across categories. \n",
    "* One axis of the chart shows the specific categories being compared and the other axis represents a discrete value scale.\n",
    "* Distinguished from Histograms as they do not display continuous developments over an interval. \n",
    "* Bar Chart's discrete data is categorical data and therefore answers the question of \"how many?\" in each category.\n",
    "\n",
    "https://datavizcatalogue.com/methods/bar_chart.html\n"
   ]
  },
  {
   "cell_type": "code",
   "execution_count": null,
   "metadata": {},
   "outputs": [],
   "source": [
    "# For continuous data:\n",
    "\n",
    "df[\"chol\"].plot.bar();"
   ]
  },
  {
   "cell_type": "markdown",
   "metadata": {},
   "source": [
    "* ACK! that isn't very useful."
   ]
  },
  {
   "cell_type": "code",
   "execution_count": null,
   "metadata": {},
   "outputs": [],
   "source": [
    "# For discrete data\n",
    "df[\"sex\"].value_counts().sort_index().plot(kind='bar', rot=0);"
   ]
  },
  {
   "cell_type": "markdown",
   "metadata": {},
   "source": [
    "## RadViz\n",
    "\n",
    "* RadViz is a way of visualizing multi-variate data. \n",
    "* It is based on a simple spring tension minimization algorithm. \n",
    "* Basically you set up a bunch of points in a plane. In our case they are equally spaced on a unit circle. Each point represents a single attribute. \n",
    "* You then pretend that each sample in the data set is attached to each of these points by a spring, the stiffness of which is proportional to the numerical value of that attribute (they are normalized to unit interval). \n",
    "* The point in the plane, where our sample settles to (where the forces acting on our sample are at an equilibrium) is where a dot representing our sample will be drawn. \n",
    "* Depending on which class that sample belongs it will be colored differently.\n",
    "\n",
    "https://pandas.pydata.org/pandas-docs/stable/visualization.html#visualization-radviz\n"
   ]
  },
  {
   "cell_type": "code",
   "execution_count": null,
   "metadata": {},
   "outputs": [],
   "source": [
    "iris_data = pd.read_csv(\"iris.csv\")\n",
    "iris_data.head()"
   ]
  },
  {
   "cell_type": "code",
   "execution_count": null,
   "metadata": {},
   "outputs": [],
   "source": [
    "from pandas.plotting import radviz\n",
    "radviz(iris_data, 'Name');"
   ]
  },
  {
   "cell_type": "code",
   "execution_count": null,
   "metadata": {},
   "outputs": [],
   "source": [
    "radviz(df[[\"chol\", \"weight\", \"age\", \"height\", \"location\"]], \"location\");"
   ]
  },
  {
   "cell_type": "markdown",
   "metadata": {},
   "source": [
    "##  Parallel Coordinates Plot \n",
    "\n",
    "* Used for plotting multivariate, numerical data. \n",
    "* Ideal for comparing many variables together and seeing the relationships between them. \n",
    "* Examples:\n",
    "    * Comparing computer or cars specs across different models\n",
    "    * Comparing drug efficacy across patient cohorts\n",
    "* Each variable is given its own axis and all the axes are placed in parallel to each other. \n",
    "* Each axis can have a different scale, as each variable works off a different unit of measurement, or all the axes can be normalised to keep all the scales uniform.\n",
    "* Values are plotted as a series of lines that connected across all the axes. \n",
    "\n",
    "https://datavizcatalogue.com/methods/parallel_coordinates.html"
   ]
  },
  {
   "cell_type": "code",
   "execution_count": null,
   "metadata": {},
   "outputs": [],
   "source": [
    "from pandas.plotting import parallel_coordinates\n",
    "parallel_coordinates(iris_data, 'Name', colormap='gist_rainbow');\n"
   ]
  },
  {
   "cell_type": "markdown",
   "metadata": {},
   "source": [
    "## Pie Chart \n",
    "\n",
    "* Yup, you can make them."
   ]
  },
  {
   "cell_type": "code",
   "execution_count": null,
   "metadata": {},
   "outputs": [],
   "source": [
    "# For continuous data (pretty useless)\n",
    "df[[\"chol\"]].plot.pie(y='chol', subplots=False, figsize=(8, 4));"
   ]
  },
  {
   "cell_type": "code",
   "execution_count": null,
   "metadata": {},
   "outputs": [],
   "source": [
    "# For discrete data\n",
    "df[\"sex\"].value_counts().sort_index().plot.pie(y='sex', \n",
    "                                                  subplots=False, \n",
    "                                                  figsize=(8, 4));"
   ]
  },
  {
   "cell_type": "code",
   "execution_count": null,
   "metadata": {},
   "outputs": [],
   "source": [
    "# For discrete data\n",
    "df[\"frame\"].value_counts().sort_index().plot.pie(y='sex', \n",
    "                                                 subplots=False, \n",
    "                                                 figsize=(8, 4));"
   ]
  },
  {
   "cell_type": "code",
   "execution_count": null,
   "metadata": {},
   "outputs": [],
   "source": []
  }
 ],
 "metadata": {
  "kernelspec": {
   "display_name": "Python 3.7",
   "language": "python",
   "name": "python3"
  },
  "language_info": {
   "codemirror_mode": {
    "name": "ipython",
    "version": 3
   },
   "file_extension": ".py",
   "mimetype": "text/x-python",
   "name": "python",
   "nbconvert_exporter": "python",
   "pygments_lexer": "ipython3",
   "version": "3.7.0"
  }
 },
 "nbformat": 4,
 "nbformat_minor": 4
}
