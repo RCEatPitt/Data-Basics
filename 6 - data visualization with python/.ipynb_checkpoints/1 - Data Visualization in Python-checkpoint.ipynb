{
 "cells": [
  {
   "cell_type": "markdown",
   "metadata": {},
   "source": [
    "# Data Visualization in Python\n",
    "\n",
    "* There are many libraries for doing data visualization in Python, none of them are perfect\n",
    "* matplotlib is a very powerful data visualization toolkit for Python\n",
    "* But it is a bit clunky and old school\n",
    "* Increasingly there are newer alternatives to graphing in Python\n",
    "    * [Seaborn](http://seaborn.pydata.org/#), built on top of matplotlib, provides an easier (and more asthetically pleasing) programming interface \n",
    "    * [Bokeh](http://bokeh.pydata.org/en/latest/), which is great for displaying data on the web\n",
    "    * [Plotly](https://plot.ly/python/), which is a whole subscription based web service\n",
    "    * [plotnine](https://plotnine.readthedocs.io/en/stable/), a python implementation of the very popular visualization library GGPlot from R\n",
    "    * [Altair](https://altair-viz.github.io), which is a new *declarative* visualization library from one of the Jupyter developers\n",
    "* Still, `matplotlib` is the OG of the python data visualization libraries (respect), so we are going to spend the next couple hours getting matplotlib'd\n",
    "\n"
   ]
  },
  {
   "cell_type": "markdown",
   "metadata": {},
   "source": [
    "## Visualizing data\n",
    "\n",
    "\n",
    "* I assume you already know what data visualization *is*\n",
    "* The *real* question is *how* to visualize data AND *what* visualization to use\n",
    "* There are many different kinds of data visualizations and which one is the best for any given situation is a loaded question\n",
    "\n",
    "![XKCD comic on data vis](https://imgs.xkcd.com/comics/self_description.png)\n",
    "\n",
    "### What kinds of visulizations are there?\n",
    "\n",
    "* Here is a semy ugly looking periodic table of visualization methods: [http://www.visual-literacy.org/periodic_table/periodic_table.html](http://www.visual-literacy.org/periodic_table/periodic_table.html)\n",
    "* Here is a good website cataloguing many of the different types of visualizations: [http://www.datavizcatalogue.com](http://www.datavizcatalogue.com)\n",
    "* For example, here is the information about [box charts](http://www.datavizcatalogue.com/methods/bar_chart.html)\n",
    "* When making a data visualization, you need to consider how various visual elements can convey the information you wish to show.\n",
    "* There are many ways to represent quantiative information visually"
   ]
  },
  {
   "cell_type": "markdown",
   "metadata": {},
   "source": [
    "## Visualizing Data"
   ]
  },
  {
   "cell_type": "code",
   "execution_count": null,
   "metadata": {},
   "outputs": [],
   "source": [
    "# load up our python libraries\n",
    "# all will be explained later\n",
    "%matplotlib inline\n",
    "import matplotlib.pyplot as plt\n",
    "import numpy as np\n",
    "plt.style.use('ggplot')\n",
    "\n",
    "# create a bunch of random data\n",
    "data = np.random.randn(1000)\n",
    "data[0:10]"
   ]
  },
  {
   "cell_type": "markdown",
   "metadata": {},
   "source": [
    "### Univariate or one dimensional data\n",
    "\n",
    "* Histograms are useful because they show you how the values are distributed\n",
    "* Not to be confused with bar charts!"
   ]
  },
  {
   "cell_type": "code",
   "execution_count": null,
   "metadata": {},
   "outputs": [],
   "source": [
    "# create a histogram of the data\n",
    "plt.hist(data);"
   ]
  },
  {
   "cell_type": "markdown",
   "metadata": {},
   "source": [
    "### Bivariate or two dimensional data"
   ]
  },
  {
   "cell_type": "markdown",
   "metadata": {},
   "source": [
    "* Scatter plots are useful for visualizing two dimensional numerical data"
   ]
  },
  {
   "cell_type": "code",
   "execution_count": null,
   "metadata": {},
   "outputs": [],
   "source": [
    "# create two lists of numerical data\n",
    "x = np.linspace(0, 10, 30)\n",
    "y = np.sin(x)\n",
    "\n",
    "# plot the data as a series of points\n",
    "plt.plot(x, y, 'o');"
   ]
  },
  {
   "cell_type": "markdown",
   "metadata": {},
   "source": [
    "* Bar charts are useful for visualizing two dimensional data where one dimension is categorical"
   ]
  },
  {
   "cell_type": "code",
   "execution_count": null,
   "metadata": {},
   "outputs": [],
   "source": [
    "# create some categorical data\n",
    "labels = [\"cats\", \"dogs\", \"chickens\", \"spiders\"]\n",
    "x_pos = [1,2,3,4]\n",
    "y = [1,5,2,5]\n",
    "\n",
    "# plot as a bar chart\n",
    "plt.bar(x_pos, y)\n",
    "plt.xticks(x_pos, labels);"
   ]
  },
  {
   "cell_type": "markdown",
   "metadata": {},
   "source": [
    "* And line charts can be used to represent continuous data"
   ]
  },
  {
   "cell_type": "code",
   "execution_count": null,
   "metadata": {},
   "outputs": [],
   "source": [
    "plt.plot(x, np.sin(x));"
   ]
  },
  {
   "cell_type": "markdown",
   "metadata": {},
   "source": [
    "* So this plot has two dimensions\n",
    "* How might we add more?"
   ]
  },
  {
   "cell_type": "code",
   "execution_count": null,
   "metadata": {},
   "outputs": [],
   "source": []
  },
  {
   "cell_type": "code",
   "execution_count": null,
   "metadata": {},
   "outputs": [],
   "source": []
  },
  {
   "cell_type": "code",
   "execution_count": null,
   "metadata": {},
   "outputs": [],
   "source": []
  },
  {
   "cell_type": "code",
   "execution_count": null,
   "metadata": {},
   "outputs": [],
   "source": []
  },
  {
   "cell_type": "code",
   "execution_count": null,
   "metadata": {},
   "outputs": [],
   "source": []
  },
  {
   "cell_type": "markdown",
   "metadata": {},
   "source": [
    "### Adding more dimensions?\n",
    "\n",
    "* What if we want to visualize additional dimensions? \n",
    "* Color, size, and shapes add information from other dimensions"
   ]
  },
  {
   "cell_type": "code",
   "execution_count": null,
   "metadata": {},
   "outputs": [],
   "source": [
    "rng = np.random.RandomState(0)\n",
    "x = rng.randn(100)\n",
    "y = rng.randn(100)\n",
    "colors = rng.rand(100)\n",
    "sizes = 1000 * rng.rand(100)\n",
    "\n",
    "plt.scatter(x, y, c=colors, s=sizes, alpha=0.3,\n",
    "            cmap='viridis')\n",
    "plt.colorbar();  # show color scale"
   ]
  },
  {
   "cell_type": "markdown",
   "metadata": {},
   "source": [
    "* How many dimensions are we displaying in this visualization?"
   ]
  },
  {
   "cell_type": "code",
   "execution_count": null,
   "metadata": {},
   "outputs": [],
   "source": []
  },
  {
   "cell_type": "code",
   "execution_count": null,
   "metadata": {},
   "outputs": [],
   "source": []
  },
  {
   "cell_type": "code",
   "execution_count": null,
   "metadata": {},
   "outputs": [],
   "source": []
  },
  {
   "cell_type": "code",
   "execution_count": null,
   "metadata": {},
   "outputs": [],
   "source": []
  },
  {
   "cell_type": "code",
   "execution_count": null,
   "metadata": {},
   "outputs": [],
   "source": []
  },
  {
   "cell_type": "markdown",
   "metadata": {},
   "source": [
    "### Interacting with matplotlib\n",
    "\n",
    "* Two interfaces (or \"data structures\" to be consistent with how we've been talking in these workshops)\n",
    "    * `pyplot` - which is designed to resemble the *not pythonic* plotting interface of MATLAB\n",
    "        * You programmatically issue commands to build your plot\n",
    "    * The \"object oriented\" and more *pythonic* interfaces, consisting of \n",
    "        * `Figure` - a \"data structure\" that contains the figure. Has parameters and methods for setting the physical size of the visualzations, saving the visualization as an image to disk, etc. Usually stored in the `fig` variable.\n",
    "        * `Axes` - a \"data structure\" that contains the specific elements of the visualization. You can have more than one axes if you want to create parallel plots. Has parameters and methods for setting the tick marks, legend, axis labels, etc. Usually stored in the `ax` variable."
   ]
  },
  {
   "cell_type": "markdown",
   "metadata": {},
   "source": [
    "### matplotlib and Jupyter Notebooks\n",
    "\n",
    "* In order to use `matplotlib` with Jupyter Notebooks, you need to run this \"magic\" command\n",
    "    * It is best to put it at the top of your notebook when you import libraries\n",
    "* This command tells matplotlib to render the plots inside the notebook"
   ]
  },
  {
   "cell_type": "code",
   "execution_count": null,
   "metadata": {},
   "outputs": [],
   "source": [
    "%matplotlib inline"
   ]
  },
  {
   "cell_type": "markdown",
   "metadata": {},
   "source": [
    "* The convention is to import the pyplot interface as `plt`"
   ]
  },
  {
   "cell_type": "code",
   "execution_count": null,
   "metadata": {},
   "outputs": [],
   "source": [
    "import matplotlib.pyplot as plt"
   ]
  },
  {
   "cell_type": "markdown",
   "metadata": {},
   "source": [
    "* Now whenever you want to create a data vizualization, you will methods part of the `plt` \"data structure\""
   ]
  },
  {
   "cell_type": "code",
   "execution_count": null,
   "metadata": {},
   "outputs": [],
   "source": [
    "# create two lists of numerical data\n",
    "x = np.linspace(0, 10, 30)\n",
    "y = np.sin(x)\n",
    "\n",
    "# plot the data as a series of points\n",
    "# the 'o' is a format string saying render as points\n",
    "plt.plot(x, y, 'o');"
   ]
  },
  {
   "cell_type": "markdown",
   "metadata": {},
   "source": [
    "* Without that `'o'` format string pyplot defaults to lines\n",
    "* For more examples of format strings see the [matplotlib documentation](https://matplotlib.org/api/_as_gen/matplotlib.pyplot.plot.html)"
   ]
  },
  {
   "cell_type": "code",
   "execution_count": null,
   "metadata": {},
   "outputs": [],
   "source": [
    "# create two lists of numerical data\n",
    "x = np.linspace(0, 10, 30)\n",
    "y = np.sin(x)\n",
    "\n",
    "# plot the data as a series of points\n",
    "plt.plot(x, y);"
   ]
  },
  {
   "cell_type": "markdown",
   "metadata": {},
   "source": [
    "* You can make subsequent calls using the `plt` object to modify your chart\n",
    "* Note: Juptyter makes a new plot with each cell, so you must put all your commands for an individual chart in the same cell"
   ]
  },
  {
   "cell_type": "code",
   "execution_count": null,
   "metadata": {},
   "outputs": [],
   "source": [
    "# create some categorical data\n",
    "labels = [\"cats\", \"dogs\", \"chickens\", \"spiders\"]\n",
    "x_pos = [1,2,3,4]\n",
    "y = [1,5,2,5]\n",
    "\n",
    "# plot as a bar chart\n",
    "plt.bar(x_pos, y);\n",
    "#plt.xticks(x_pos, labels);"
   ]
  },
  {
   "cell_type": "code",
   "execution_count": null,
   "metadata": {},
   "outputs": [],
   "source": [
    "plt.xticks(x_pos, labels);"
   ]
  },
  {
   "cell_type": "code",
   "execution_count": null,
   "metadata": {},
   "outputs": [],
   "source": [
    "# create some categorical data\n",
    "labels = [\"cats\", \"dogs\", \"chickens\", \"spiders\"]\n",
    "x_pos = [1,2,3,4]\n",
    "y = [1,5,2,5]\n",
    "\n",
    "# plot as a bar chart\n",
    "plt.bar(x_pos, y);\n",
    "plt.xticks(x_pos, labels);"
   ]
  },
  {
   "cell_type": "markdown",
   "metadata": {},
   "source": [
    "* Even if you use the other interface to build your viz, you start with `plt`"
   ]
  },
  {
   "cell_type": "markdown",
   "metadata": {},
   "source": [
    "## Modifying your Chat\n",
    "\n"
   ]
  },
  {
   "cell_type": "code",
   "execution_count": null,
   "metadata": {},
   "outputs": [],
   "source": [
    "data = np.random.randn(30).cumsum()"
   ]
  },
  {
   "cell_type": "code",
   "execution_count": null,
   "metadata": {},
   "outputs": [],
   "source": [
    "plt.plot(data, 'ko--');"
   ]
  },
  {
   "cell_type": "markdown",
   "metadata": {},
   "source": [
    "* Another way of saying this not using a format string"
   ]
  },
  {
   "cell_type": "code",
   "execution_count": null,
   "metadata": {},
   "outputs": [],
   "source": [
    "plt.plot(data, color='k', linestyle='dashed', marker='o');"
   ]
  },
  {
   "cell_type": "markdown",
   "metadata": {},
   "source": [
    "* You can add a legend to your chart "
   ]
  },
  {
   "cell_type": "code",
   "execution_count": null,
   "metadata": {},
   "outputs": [],
   "source": [
    "plt.plot(data, color='k', linestyle='dashed', marker='o');\n",
    "plt.legend('best');"
   ]
  },
  {
   "cell_type": "markdown",
   "metadata": {},
   "source": [
    "* You can also set the title, axis labels, ticks, and ticklables using subsequent calls to the `plt` object"
   ]
  },
  {
   "cell_type": "code",
   "execution_count": null,
   "metadata": {},
   "outputs": [],
   "source": [
    "plt.plot(data, color='k', linestyle='dashed', marker='o');\n",
    "plt.xticks([0,10,20,30]);"
   ]
  },
  {
   "cell_type": "markdown",
   "metadata": {},
   "source": [
    "* You can also specify your own labels for the axes"
   ]
  },
  {
   "cell_type": "code",
   "execution_count": null,
   "metadata": {},
   "outputs": [],
   "source": [
    "plt.plot(data, color='k', linestyle='dashed', marker='o');\n",
    "plt.xticks([0,10,20,30], [\"start\", \"early\", \"middle\", \"end\"]);"
   ]
  },
  {
   "cell_type": "markdown",
   "metadata": {},
   "source": [
    "* There is an equivalent `plt.yticks()` for modifying the y axis."
   ]
  },
  {
   "cell_type": "code",
   "execution_count": null,
   "metadata": {},
   "outputs": [],
   "source": [
    "plt.plot(data, color='k', linestyle='dashed', marker='o');\n",
    "plt.xticks([0,10,20,30], [\"start\", \"early\", \"middle\", \"end\"]);"
   ]
  },
  {
   "cell_type": "markdown",
   "metadata": {},
   "source": [
    "* This plot still feels small, so let's make it bigger!"
   ]
  },
  {
   "cell_type": "code",
   "execution_count": null,
   "metadata": {},
   "outputs": [],
   "source": [
    "# note, you need to specify this before you run the plot function\n",
    "plt.figure(figsize=(10,8))\n",
    "plt.plot(data, color='k', linestyle='dashed', marker='o');\n",
    "plt.xticks([0,10,20,30], [\"start\", \"early\", \"middle\", \"end\"]);\n"
   ]
  },
  {
   "cell_type": "markdown",
   "metadata": {},
   "source": [
    "## Saving plots to a file"
   ]
  },
  {
   "cell_type": "code",
   "execution_count": null,
   "metadata": {},
   "outputs": [],
   "source": [
    "plt.plot(data, color='k', linestyle='dashed', marker='o');\n",
    "plt.xticks([0,10,20,30], [\"start\", \"early\", \"middle\", \"end\"]);\n",
    "\n",
    "plt.savefig('my-sweet-chart.png')"
   ]
  },
  {
   "cell_type": "markdown",
   "metadata": {},
   "source": [
    "* Sweet! But what if we want to make it bigger"
   ]
  },
  {
   "cell_type": "code",
   "execution_count": null,
   "metadata": {},
   "outputs": [],
   "source": [
    "plt.plot(data, color='k', linestyle='dashed', marker='o');\n",
    "plt.xticks([0,10,20,30], [\"start\", \"early\", \"middle\", \"end\"]);\n",
    "\n",
    "plt.savefig('my-sweet-chart-big.png', dpi=400, bbox_inches='tight')"
   ]
  },
  {
   "cell_type": "markdown",
   "metadata": {},
   "source": [
    "* The format of the images can be specificed by the file extension or with the `format` parameter\n",
    "    * png, pdf, svg, ps, eps, and many more\n",
    "* The `dpi` parameter sets the resolution of the image, the default is 100 which doesn't look pretty when printed\n",
    "* The `bbox_inches` parameter specifies the amount of whitespace around the figure."
   ]
  },
  {
   "cell_type": "code",
   "execution_count": null,
   "metadata": {},
   "outputs": [],
   "source": []
  }
 ],
 "metadata": {
  "kernelspec": {
   "display_name": "Python 3.7",
   "language": "python",
   "name": "python3"
  },
  "language_info": {
   "codemirror_mode": {
    "name": "ipython",
    "version": 3
   },
   "file_extension": ".py",
   "mimetype": "text/x-python",
   "name": "python",
   "nbconvert_exporter": "python",
   "pygments_lexer": "ipython3",
   "version": "3.7.0"
  }
 },
 "nbformat": 4,
 "nbformat_minor": 4
}
