{
 "cells": [
  {
   "cell_type": "markdown",
   "metadata": {},
   "source": [
    "# Files\n",
    "\n",
    "* Up to now we haven't really been doing much with data, only what we type into the notebooks (short strings and numbers)\n",
    "* In the real world we don't type our data into Notebooks, we store them in files!\n",
    "* Opening files is where Python becomes useful for processing larger amounts of data\n",
    "* Lets start with a small text file that has only a few lines"
   ]
  },
  {
   "cell_type": "code",
   "execution_count": null,
   "metadata": {},
   "outputs": [],
   "source": [
    "# use the shell command cat to display the contents of the file test.txt\n",
    "!cat test.txt"
   ]
  },
  {
   "cell_type": "markdown",
   "metadata": {},
   "source": [
    "## Opening files\n",
    "\n",
    "* Use the `open(<filepath>, <mode>)` function to establish a *connection* to a file on disk\n",
    "* When you connect to a file it can have different modes. Indicate a mode using a short string\n",
    "    * `r` - Read only\n",
    "    * `w` - Write (overwriting existing contents)\n",
    "    * `a` - Append to a file\n",
    "    * `x` - Write a new file (fails is file already exists)\n",
    "    * `b` - Binary mode, for opening non-text files\n",
    "* Python reads files as text by default. You can also specify the encoding with the `encoding` argument.\n",
    "    * `utf-8` is the default.\n",
    "* Once a file has been opened we can do operations on it like reading it into memory\n",
    "* Python has a special syntax for safely opening and working with files\n",
    "\n",
    "The `with open` syntax for safely opening files:\n",
    "\n",
    "```\n",
    "with open(<filepath>, '<mode>', <optional encoding>) as <variable>:\n",
    "    # do something\n",
    "    # the file is open inside this block\n",
    "\n",
    "# the file is closed outside this block\n",
    "```"
   ]
  },
  {
   "cell_type": "code",
   "execution_count": null,
   "metadata": {},
   "outputs": [],
   "source": [
    "with open(\"test.txt\", 'r') as file_handler: # the 'r' tells Python you are Reading the file\n",
    "    # do something with file_handler"
   ]
  },
  {
   "cell_type": "markdown",
   "metadata": {},
   "source": [
    "* The `file_handler` is a connection to the file, but it isn't the file contents itself\n",
    "* We use the `read()` function to read the entire file into memory at once\n",
    "    * Don't do this with large files! We will use other techniques to read their contents"
   ]
  },
  {
   "cell_type": "code",
   "execution_count": null,
   "metadata": {},
   "outputs": [],
   "source": [
    "with open(\"test.txt\", 'r') as file_handler: # the 'r' tells Python you are Reading the file\n",
    "    # read the file content into a variable \n",
    "    file_contents = file_handler.read()\n",
    "\n",
    "file_contents"
   ]
  },
  {
   "cell_type": "markdown",
   "metadata": {},
   "source": [
    "* One thing to note, the \"\\n\" gets printed as a newline by the `print()` function vs. raw output from Jupyter\n",
    "* When working with files it is really important to understand the *newline* character\n",
    "* A newline is represented in a string by `\\n`\n",
    "* This is useful for processing a text file line-by-line"
   ]
  },
  {
   "cell_type": "code",
   "execution_count": null,
   "metadata": {},
   "outputs": [],
   "source": [
    "# A string with a newline in it\n",
    "print(\"Hello\\nWorld!\")"
   ]
  },
  {
   "cell_type": "code",
   "execution_count": null,
   "metadata": {},
   "outputs": [],
   "source": [
    "# display the contents of file_contents using print() instead of Jupyter Output\n",
    "print(file_contents)"
   ]
  },
  {
   "cell_type": "markdown",
   "metadata": {},
   "source": [
    "* It is useful to know that there are some minor differences in the display of output when you use the `print()` function vs. putting something in the last line of a cell in Jupyter"
   ]
  },
  {
   "cell_type": "markdown",
   "metadata": {},
   "source": [
    "## Working with files line by line\n",
    "\n",
    "* When you have files with data on each line, especially large files, you can loop over them \n",
    "* Just like iterating over lists, you can iterate over files\n",
    "* Python reads the contents of the file until it hits \"\\n\" and then it puts that in the loop variable\n",
    "* Useful for working with *extremely large* files because you only store one line in memory at a time"
   ]
  },
  {
   "cell_type": "code",
   "execution_count": null,
   "metadata": {},
   "outputs": [],
   "source": [
    "# open the file\n",
    "with open(\"test.txt\", 'r') as file_handler:\n",
    "    for line in file_handler:\n",
    "        print(line)\n",
    "        "
   ]
  },
  {
   "cell_type": "markdown",
   "metadata": {},
   "source": [
    "### Reading Data Files\n",
    "\n",
    "* A file handler is not the file, it is a pointer to the file\n",
    "* This is how python can work with HUGE files\n",
    "* We can process large files line by line (assuming there are multiple lines)\n",
    "* Each line gets treated as a separate string"
   ]
  },
  {
   "cell_type": "code",
   "execution_count": null,
   "metadata": {},
   "outputs": [],
   "source": [
    "# use the unix command head to see the first 25 lines of the file\n",
    "!head -n 25 diabetes.csv"
   ]
  },
  {
   "cell_type": "markdown",
   "metadata": {},
   "source": [
    "* Lets count the lines of the file"
   ]
  },
  {
   "cell_type": "code",
   "execution_count": null,
   "metadata": {},
   "outputs": [],
   "source": [
    "with open('diabetes.csv', 'r') as file_handler:\n",
    "    count = 0\n",
    "    for line in file_handler:\n",
    "        #count = count +1\n",
    "        count += 1\n",
    "\n",
    "print(count)"
   ]
  },
  {
   "cell_type": "markdown",
   "metadata": {},
   "source": [
    "## Reading in all the data\n",
    "\n",
    "* Why don't we read every line of the file into memory as a list"
   ]
  },
  {
   "cell_type": "code",
   "execution_count": null,
   "metadata": {},
   "outputs": [],
   "source": [
    "# create an empty list to store each line\n",
    "data = [] \n",
    "\n",
    "# count the number of lines in the text file\n",
    "with open('diabetes.csv', 'r') as file_handler:    \n",
    "    for line in file_handler:\n",
    "        # use the append function to add each line\n",
    "        data.append(line)\n",
    "\n",
    "print(\"Length:\", len(data))\n",
    "print(\"First 10 lines:\", data[0:10])\n"
   ]
  },
  {
   "cell_type": "markdown",
   "metadata": {},
   "source": [
    "* How is the data structures in the `data` variable?"
   ]
  },
  {
   "cell_type": "markdown",
   "metadata": {},
   "source": [
    "## Working with Modules\n",
    "\n",
    "* Python's [standard library](https://docs.python.org/3/library/) is very comprehensive \n",
    "    * Interact with your operating system with `os`\n",
    "    * Work with emails using `email`\n",
    "    * Run a web server with `http.server`\n",
    "* Use this also to import 3rd-party libraries\n",
    "* To import modules use the `import` command, this will load the module into memory\n",
    "    * Use the syntax `import <module name> as <arbitrary name>` to use a different name"
   ]
  },
  {
   "cell_type": "code",
   "execution_count": null,
   "metadata": {},
   "outputs": [],
   "source": [
    "import calendar as cal\n",
    "\n",
    "# is this year a leap year?\n",
    "cal.isleap(2019)"
   ]
  },
  {
   "cell_type": "markdown",
   "metadata": {},
   "source": [
    "## Working With CSV Files\n",
    "\n",
    "* CSV files are used to store a large number of variables – or data. They are incredibly simplified spreadsheets – think Excel – only the content is stored in plaintext.\n",
    "* Python has a CSV parser as part of the standard library\n",
    "* To parse CSV files, we use the `csv` module.\n",
    "* The csv module provides a number of built-in functions to make it easier to parse and iterate through CSV files.\n",
    " "
   ]
  },
  {
   "cell_type": "code",
   "execution_count": null,
   "metadata": {},
   "outputs": [],
   "source": [
    "#  load the CSV module \n",
    "import csv\n",
    "\n",
    "# open the diabetes file\n",
    "with open(\"diabetes.csv\", 'r') as diabetes_file:\n",
    "    # do nothing for now\n",
    "    None"
   ]
  },
  {
   "cell_type": "markdown",
   "metadata": {},
   "source": [
    "* Now we need to tell Python that the file stored in diabetes_file variable should be read as and interpreted as a CSV file. \n",
    "*  We do that by calling on the `reader()` function of the csv module"
   ]
  },
  {
   "cell_type": "code",
   "execution_count": null,
   "metadata": {},
   "outputs": [],
   "source": [
    "# open the diabetes file\n",
    "with open(\"diabetes.csv\", 'r') as diabetes_file:\n",
    "    # Create a CSV reader \n",
    "    diabetes_data = csv.reader(diabetes_file)"
   ]
  },
  {
   "cell_type": "markdown",
   "metadata": {},
   "source": [
    "* At this point, the entire CSV file is treated as a table - a collection of rows and columns\n",
    "* We can iterate (loop) through this table and get access to each individual row, just like the line-by-line above\n",
    "* But CSV automatically splits it all into different values!"
   ]
  },
  {
   "cell_type": "code",
   "execution_count": null,
   "metadata": {},
   "outputs": [],
   "source": [
    "# open the diabetes file\n",
    "with open(\"diabetes.csv\", 'r') as diabetes_file:\n",
    "    # Create a CSV reader \n",
    "    diabetes_data = csv.reader(diabetes_file)\n",
    "    # loop over the file and print the row contents \n",
    "    for row in diabetes_data:\n",
    "        print(row)\n",
    "    "
   ]
  },
  {
   "cell_type": "markdown",
   "metadata": {},
   "source": [
    "* You probably noticed that the row variable is just a list - it is a list of values contained in each column.\n",
    "* You can access individual columns exactly the same way you would access values in a list.\n",
    "* For example, the value of cholesterol is in a column called 'chol', which is a second column and therefore has the index of 1"
   ]
  },
  {
   "cell_type": "code",
   "execution_count": null,
   "metadata": {
    "scrolled": false
   },
   "outputs": [],
   "source": [
    "# open the diabetes file\n",
    "with open(\"diabetes.csv\", 'r') as diabetes_file:\n",
    "    # Create a CSV reader \n",
    "    diabetes_data = csv.reader(diabetes_file)\n",
    "    # loop over the file and print the row contents \n",
    "    for row in diabetes_data:\n",
    "        print(row[1]) # print only the values for the chol column"
   ]
  },
  {
   "cell_type": "markdown",
   "metadata": {},
   "source": [
    "* You probably also noticed that the first row does not contain data - it's just the column headers\n",
    "* In order for us to do any mathematical or statistical operations on the data, we need to EXCLUDE the header\n",
    "* We have to skip the header row. We can do this with the `next()` function to separate the header rows"
   ]
  },
  {
   "cell_type": "code",
   "execution_count": null,
   "metadata": {},
   "outputs": [],
   "source": [
    "# open the diabetes file\n",
    "with open(\"diabetes.csv\", 'r') as diabetes_file:\n",
    "    # Create a CSV reader \n",
    "    diabetes_data = csv.reader(diabetes_file)\n",
    "\n",
    "    # use next to skip the header row\n",
    "    headers = next(diabetes_file)\n",
    "    print(headers)\n",
    "\n",
    "    # loop over the remaining lines file \n",
    "    for row in diabetes_data:\n",
    "        print(row[1]) # print only the values for the chol column\n"
   ]
  },
  {
   "cell_type": "markdown",
   "metadata": {},
   "source": [
    "## CSV files - Challenge 1\n",
    "\n",
    "Calculate the _average_ and the _highest (max)_ cholesterol value based on the data available in the dataset.\n",
    "This challenge will require you to do several things:\n",
    "1. Open the file\n",
    "2. Initialize the CSV reader\n",
    "3. Skip the header row\n",
    "4. Create variables for use in your calculation \n",
    "    * Hint: You'll need to store the max, sum, and number of values\n",
    "5. Loop over every line and run calculations\n",
    "    * Hint: Keep an eye on data types\n",
    "    * Hint: Don't forget to check for missing values "
   ]
  },
  {
   "cell_type": "code",
   "execution_count": null,
   "metadata": {},
   "outputs": [],
   "source": [
    "# Step 1: Import csv module\n",
    "import csv\n",
    "\n",
    "# Step 2: Read the csv file\n",
    "with open(\"diabetes.csv\", 'r') as diabetes_file:\n",
    "    diabetes_data = csv.reader(diabetes_file)\n",
    "    \n",
    "    # Step 3: Separate the headers\n",
    "    headers = next(diabetes_file)\n",
    "    \n",
    "    # Step 4: Create some variables\n",
    "    \n",
    "    \n",
    "    \n",
    "    # Step 5: Loop over the data an calculate the average and highest cholesteral value\n",
    "    # Hint: you'll need to declare variables to store average and maximum cholesterol here (outside of the loop)\n",
    "    # Hint: You might want to check and see if the data actually exists!\n",
    "    for row in diabetes_data:\n",
    "    \n",
    "        # replace this code with your average a max calculation code\n",
    "        print(row[1]) # print only the values for the chol column"
   ]
  },
  {
   "cell_type": "code",
   "execution_count": null,
   "metadata": {},
   "outputs": [],
   "source": []
  },
  {
   "cell_type": "code",
   "execution_count": null,
   "metadata": {},
   "outputs": [],
   "source": []
  },
  {
   "cell_type": "code",
   "execution_count": null,
   "metadata": {},
   "outputs": [],
   "source": []
  },
  {
   "cell_type": "code",
   "execution_count": null,
   "metadata": {},
   "outputs": [],
   "source": []
  },
  {
   "cell_type": "code",
   "execution_count": null,
   "metadata": {},
   "outputs": [],
   "source": []
  },
  {
   "cell_type": "code",
   "execution_count": null,
   "metadata": {},
   "outputs": [],
   "source": []
  },
  {
   "cell_type": "code",
   "execution_count": null,
   "metadata": {},
   "outputs": [],
   "source": []
  },
  {
   "cell_type": "code",
   "execution_count": null,
   "metadata": {},
   "outputs": [],
   "source": []
  },
  {
   "cell_type": "code",
   "execution_count": null,
   "metadata": {},
   "outputs": [],
   "source": []
  },
  {
   "cell_type": "code",
   "execution_count": null,
   "metadata": {},
   "outputs": [],
   "source": []
  },
  {
   "cell_type": "code",
   "execution_count": null,
   "metadata": {},
   "outputs": [],
   "source": []
  },
  {
   "cell_type": "code",
   "execution_count": null,
   "metadata": {},
   "outputs": [],
   "source": []
  },
  {
   "cell_type": "code",
   "execution_count": null,
   "metadata": {},
   "outputs": [],
   "source": []
  },
  {
   "cell_type": "code",
   "execution_count": null,
   "metadata": {},
   "outputs": [],
   "source": []
  },
  {
   "cell_type": "code",
   "execution_count": null,
   "metadata": {},
   "outputs": [],
   "source": []
  },
  {
   "cell_type": "code",
   "execution_count": null,
   "metadata": {},
   "outputs": [],
   "source": []
  },
  {
   "cell_type": "markdown",
   "metadata": {
    "collapsed": true
   },
   "source": [
    "## CSV files - Challenge 1 Solution\n",
    "\n",
    "Calculate the _average_ and the _highest (max)_ cholesterol value based on the data available in the dataset.\n",
    "This challenge will require you to do several things:\n",
    "1. Open the file\n",
    "2. Initialize the CSV reader\n",
    "3. Skip the header row\n",
    "4. Create variables for use in your calculation \n",
    "    * Hint: You'll need to store the max, sum, and number of values\n",
    "5. Loop over every line and run calculations\n",
    "    * Hint: Keep an eye on data types\n",
    "    * Hint: Don't forget to check for missing values "
   ]
  },
  {
   "cell_type": "code",
   "execution_count": null,
   "metadata": {},
   "outputs": [],
   "source": [
    "# Step 1: Import csv module\n",
    "import csv\n",
    "\n",
    "# Step 2: Read the csv file\n",
    "with open(\"diabetes.csv\", 'r') as diabetes_file:\n",
    "    diabetes_data = csv.reader(diabetes_file)\n",
    "    \n",
    "    # Step 3: Separate the headers\n",
    "    headers = next(diabetes_file)\n",
    "    \n",
    "    # Step 4: Create some variables\n",
    "    count = 0 # Initialize a temporary counter\n",
    "    total_chol = 0\n",
    "    max_chol = 0\n",
    "    \n",
    "    \n",
    "    # Step 5: Loop over the data an calculate the average and highest cholesteral value\n",
    "    # Hint: you'll need to declare variables to store average and maximum cholesterol here (outside of the loop)\n",
    "    # Hint: You might want to check and see if the data actually exists!\n",
    "    for row in diabetes_data:\n",
    "    \n",
    "        # check to see if there is a data value\n",
    "        if row[1]: # empty string resolves to False\n",
    "            \n",
    "            # convert to integer\n",
    "            if row[1].isnumeric():\n",
    "                chol = int(row[1])\n",
    "                # tabulate the total chol\n",
    "                total_chol = total_chol + chol\n",
    "                count = count + 1\n",
    "            \n",
    "                # check if the current value is the max\n",
    "                if  chol > max_chol:\n",
    "                    # set the new max \n",
    "                    max_chol = chol\n",
    "\n",
    "print(\"Total: \" , total_chol)\n",
    "print(\"Count: \" , count)\n",
    "\n",
    "avg_chol = total_chol / count\n",
    "\n",
    "print(\"Average: \", avg_chol)\n",
    "print(\"Max:\", max_chol)\n",
    "            \n",
    "        "
   ]
  }
 ],
 "metadata": {
  "kernelspec": {
   "display_name": "Python 3.7",
   "language": "python",
   "name": "python3"
  },
  "language_info": {
   "codemirror_mode": {
    "name": "ipython",
    "version": 3
   },
   "file_extension": ".py",
   "mimetype": "text/x-python",
   "name": "python",
   "nbconvert_exporter": "python",
   "pygments_lexer": "ipython3",
   "version": "3.7.0"
  }
 },
 "nbformat": 4,
 "nbformat_minor": 2
}
