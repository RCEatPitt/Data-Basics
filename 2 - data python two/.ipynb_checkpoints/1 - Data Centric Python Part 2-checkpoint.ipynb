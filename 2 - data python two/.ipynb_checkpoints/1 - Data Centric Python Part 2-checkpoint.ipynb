{
 "cells": [
  {
   "cell_type": "markdown",
   "metadata": {},
   "source": [
    "# Data Centric Python Part Two\n",
    "\n",
    "\n",
    "* Welcome to part two of our introduction to the Python Programming Language\n",
    "* This session will cover the following topics:\n",
    "    * Data Structures - Lists & Dictionaries\n",
    "    * Iteration - Looping over data\n",
    "    * Functions - Making reusable programs\n",
    "    * File Input & Output - Working with data on disk"
   ]
  },
  {
   "cell_type": "markdown",
   "metadata": {},
   "source": [
    "---"
   ]
  },
  {
   "cell_type": "markdown",
   "metadata": {},
   "source": [
    "## A quick review of last week\n",
    "\n",
    "\n",
    "### Python data types\n",
    "\n",
    "* integers - 5\n",
    "* strings - \"hello world\"\n",
    "* floats - 5.3\n",
    "* booleans - Trie\n",
    "\n",
    "### Variables and assignment\n",
    "\n",
    "* Use `=` to give values names\n",
    "\n",
    "```\n",
    "a = 17 # assign the integer value 17 to the variable\n",
    "\n",
    "# Descriptive names are good programming hygine \n",
    "underscore_for_spaces = \"good, mnemonic variables\"\n",
    "```\n",
    "\n",
    "### Operators\n",
    "\n",
    "* Python is just a really fancy calculator\n",
    "\n",
    "```\n",
    "5 + 3 # 8\n",
    "\n",
    "# Works with variables\n",
    "a = 5\n",
    "b = ((3 + a) - 235345)\n",
    "\n",
    "a * b // 5 # -235337\n",
    "```\n",
    "\n",
    "* Also works to concatinate strings\n",
    "\n",
    "```\n",
    "a = 'School of Computing'\n",
    "b = 'and Information'\n",
    "\n",
    "a + b # 'School of Computingand Information'\n",
    "```\n",
    "\n",
    "### User input\n",
    "\n",
    "* If you want the user to input a value\n",
    "\n",
    "```\n",
    "name = input(\"What is your name\")\n",
    "print(\"Hello\", name) # using parameters instead of + to print\n",
    "```\n",
    "\n",
    "### Changing Data Types\n",
    "\n",
    "```\n",
    "a = \"5\"\n",
    "b = int(a)\n",
    "type(b) # int\n",
    "```\n",
    "\n",
    "### Conditional Expressions\n",
    "\n",
    "* How you manage the *flow* of computation\n",
    "\n",
    "```\n",
    "if 5 == 5:\n",
    "    print(\"yup, 5 equals 5\")\n",
    "else:\n",
    "    print(\"The world is on fire!\")\n",
    "```"
   ]
  },
  {
   "cell_type": "markdown",
   "metadata": {},
   "source": [
    "---"
   ]
  }
 ],
 "metadata": {
  "kernelspec": {
   "display_name": "Python 3.7",
   "language": "python",
   "name": "python3"
  },
  "language_info": {
   "codemirror_mode": {
    "name": "ipython",
    "version": 3
   },
   "file_extension": ".py",
   "mimetype": "text/x-python",
   "name": "python",
   "nbconvert_exporter": "python",
   "pygments_lexer": "ipython3",
   "version": "3.7.0"
  }
 },
 "nbformat": 4,
 "nbformat_minor": 2
}
