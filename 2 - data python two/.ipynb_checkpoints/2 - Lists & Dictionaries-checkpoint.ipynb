{
 "cells": [
  {
   "cell_type": "markdown",
   "metadata": {},
   "source": [
    "# Lists\n",
    "\n",
    "* A Python list is a sequence of values\n",
    "* Lists are a very useful data structure in Python\n",
    "    * You will be using lists *a lot*\n",
    "* Values in a Python list can by of any datatype\n",
    "* Each element of a sequence is assigned a number - its position or index. The first index is zero, the second index is one, and so forth.\n",
    "* Recognize a list by the square brackets (`[` and `]`) \n"
   ]
  },
  {
   "cell_type": "code",
   "execution_count": null,
   "metadata": {},
   "outputs": [],
   "source": [
    "# Creating Lists\n",
    "list1 = ['apples', 'oranges', 'pears', 'peaches']\n",
    "list2 = [1, 2, 3, 4, 5];\n",
    "list3 = [\"a\", \"b\", \"c\", \"d\"]\n",
    "# Note that the following list contains mixed data types\n",
    "list4 = [\"1\", \"2\", \"x\", \"y\", \"z\", True] "
   ]
  },
  {
   "cell_type": "code",
   "execution_count": null,
   "metadata": {},
   "outputs": [],
   "source": [
    "# Creating a list within a list\n",
    "my_list = [1, 3.5, \"derp\", [\"a\", \"nested\", \"list\", \"of\", \"strings\"]]\n",
    "my_list"
   ]
  },
  {
   "cell_type": "code",
   "execution_count": null,
   "metadata": {},
   "outputs": [],
   "source": [
    "type(my_list)"
   ]
  },
  {
   "cell_type": "markdown",
   "metadata": {},
   "source": [
    "* Access an item in a list by using `list_name[number]` syntax"
   ]
  },
  {
   "cell_type": "code",
   "execution_count": null,
   "metadata": {},
   "outputs": [],
   "source": [
    "my_list[1]"
   ]
  },
  {
   "cell_type": "markdown",
   "metadata": {},
   "source": [
    "* Wait, why did that say \"derp\" instead of 3.5?\n",
    "* Lists are indexed by zero."
   ]
  },
  {
   "cell_type": "code",
   "execution_count": null,
   "metadata": {},
   "outputs": [],
   "source": [
    "# Accessing Values in Lists\n",
    "fruits = ['apples', 'oranges', 'pears', 'peaches', 'berries']\n",
    "print(fruits[0]) # Get the first element of the list\n",
    "print(fruits[-1]) # Get the last element of the list"
   ]
  },
  {
   "cell_type": "markdown",
   "metadata": {},
   "source": [
    "### Lists are mutable\n",
    "\n",
    "* Thats right, you can change them"
   ]
  },
  {
   "cell_type": "code",
   "execution_count": null,
   "metadata": {},
   "outputs": [],
   "source": [
    "numbers = [17, 123]\n",
    "print(numbers)\n",
    "# change the second item in the list\n",
    "numbers[1] = 5\n",
    "print(numbers)"
   ]
  },
  {
   "cell_type": "code",
   "execution_count": null,
   "metadata": {},
   "outputs": [],
   "source": [
    "# Removing Elements from Lists\n",
    "fruits = ['apples', 'oranges', 'pears', 'peaches', 'berries']\n",
    "print(fruits)\n",
    "del(fruits[2])\n",
    "print(fruits)"
   ]
  },
  {
   "cell_type": "markdown",
   "metadata": {},
   "source": [
    "* Alternatively, you can use the 'remove()' method to get rid of a specific item"
   ]
  },
  {
   "cell_type": "code",
   "execution_count": null,
   "metadata": {},
   "outputs": [],
   "source": [
    "\n",
    "fruits = ['apples', 'oranges', 'pears', 'peaches', 'berries']\n",
    "print(fruits)\n",
    "fruits.remove('pears')\n",
    "print(fruits)"
   ]
  },
  {
   "cell_type": "markdown",
   "metadata": {},
   "source": [
    "### List Methods\n",
    "\n",
    "* Beyond `remove()`, list objects have many methods for manipulating their contents\n",
    "* Check out the [documentation](https://docs.python.org/3.5/tutorial/datastructures.html) for more information\n",
    "* `append`, `extend` are useful for building lists"
   ]
  },
  {
   "cell_type": "code",
   "execution_count": null,
   "metadata": {},
   "outputs": [],
   "source": [
    "# use append to add items to a list\n",
    "fruits = ['apples', 'oranges', 'pears', 'peaches', 'berries'];\n",
    "fruits.append('banana')\n",
    "print(fruits)"
   ]
  },
  {
   "cell_type": "code",
   "execution_count": null,
   "metadata": {},
   "outputs": [],
   "source": [
    "# but only for single items\n",
    "fruits = ['apples', 'oranges', 'pears']\n",
    "more_fruits = ['peaches', 'berries', 'banana']\n",
    "fruits.append(more_fruits)\n",
    "print(fruits)"
   ]
  },
  {
   "cell_type": "code",
   "execution_count": null,
   "metadata": {},
   "outputs": [],
   "source": [
    "# but only for single items\n",
    "fruits = ['apples', 'oranges', 'pears']\n",
    "more_fruits = ['peaches', 'berries', 'banana']\n",
    "fruits.extend(more_fruits)\n",
    "print(fruits)"
   ]
  },
  {
   "cell_type": "code",
   "execution_count": null,
   "metadata": {},
   "outputs": [],
   "source": [
    "# concatination works like strings\n",
    "fruits + more_fruits"
   ]
  },
  {
   "cell_type": "markdown",
   "metadata": {},
   "source": [
    "### Checking list contents\n",
    "\n",
    "* You can also use the `in` keyword to check if something is in a list"
   ]
  },
  {
   "cell_type": "code",
   "execution_count": null,
   "metadata": {},
   "outputs": [],
   "source": [
    "cheeses = ['Cheddar', 'Edam', 'Gouda', 'Brie', \"Pepper Jack\"]\n",
    "\"Edam\" in cheeses"
   ]
  },
  {
   "cell_type": "code",
   "execution_count": null,
   "metadata": {},
   "outputs": [],
   "source": [
    "\"cheddar\" in cheeses"
   ]
  },
  {
   "cell_type": "code",
   "execution_count": null,
   "metadata": {},
   "outputs": [],
   "source": [
    "\"Ched\" in \"CheddAr\""
   ]
  },
  {
   "cell_type": "code",
   "execution_count": null,
   "metadata": {},
   "outputs": [],
   "source": [
    "\"Ched\" in cheeses"
   ]
  },
  {
   "cell_type": "markdown",
   "metadata": {},
   "source": [
    "* You can use this in conditional expressions"
   ]
  },
  {
   "cell_type": "code",
   "execution_count": null,
   "metadata": {},
   "outputs": [],
   "source": [
    "if \"Cheddar\" in cheeses:\n",
    "    print(\"All is good\")\n",
    "else:\n",
    "    print(\"Go grocery shopping\")"
   ]
  },
  {
   "cell_type": "markdown",
   "metadata": {},
   "source": [
    "### Slicing Lists\n",
    "\n",
    "* Slices allow you to get subsets of lists, just like we did with strings above\n",
    "* Don't get cross-eyed from all the square brackets"
   ]
  },
  {
   "cell_type": "code",
   "execution_count": null,
   "metadata": {},
   "outputs": [],
   "source": [
    "# create a list and put it in a variable t\n",
    "t = ['a', 'b', 'c', 'd', 'e', 'f']"
   ]
  },
  {
   "cell_type": "code",
   "execution_count": null,
   "metadata": {},
   "outputs": [],
   "source": [
    "# slice out the second and third elements\n",
    "t[1:3]"
   ]
  },
  {
   "cell_type": "code",
   "execution_count": null,
   "metadata": {},
   "outputs": [],
   "source": [
    "# slice out the first four elements\n",
    "t[:4]"
   ]
  },
  {
   "cell_type": "code",
   "execution_count": null,
   "metadata": {},
   "outputs": [],
   "source": [
    "# Same as above\n",
    "t[0:4]"
   ]
  },
  {
   "cell_type": "code",
   "execution_count": null,
   "metadata": {},
   "outputs": [],
   "source": [
    "# slice out all the elemnts past the fourth element\n",
    "t[3:8]"
   ]
  },
  {
   "cell_type": "markdown",
   "metadata": {},
   "source": [
    "# Dictionaries\n",
    "\n",
    "* Dictionaries are the other python data type that is *super* useful for dealing with data\n",
    "* Where lists are useful for dealing with ordered data, dictionaries are useful dealing with unordered, but named data.\n",
    "* Dicitonaries contain a set of *key-value* pairs\n",
    "* The items are separated by commas\n",
    "* Each key is separated from its value by a colon (:)\n",
    "* An empty dictionary without any items is written with just two curly braces: {}.\n",
    "* Keys are unique within a dictionary while values may not be\n",
    "* The values of a dictionary can be of any type, but the keys must be strings or numbers.\n"
   ]
  },
  {
   "cell_type": "code",
   "execution_count": null,
   "metadata": {},
   "outputs": [],
   "source": [
    "eng2sp = dict() # create empty dictionary\n",
    "print(eng2sp)"
   ]
  },
  {
   "cell_type": "code",
   "execution_count": null,
   "metadata": {},
   "outputs": [],
   "source": [
    "# add a key-value pair to the dictionary\n",
    "eng2sp['one'] = 'uno'\n",
    "eng2sp['two'] = 'dos'\n",
    "print(eng2sp)"
   ]
  },
  {
   "cell_type": "code",
   "execution_count": null,
   "metadata": {},
   "outputs": [],
   "source": [
    "# create a multi key-value dictionary \n",
    "eng2sp = {'one': 'uno', 'two': 'dos', 'three': 'tres'}\n",
    "print(eng2sp)"
   ]
  },
  {
   "cell_type": "code",
   "execution_count": null,
   "metadata": {},
   "outputs": [],
   "source": [
    "# get value at key\n",
    "print(eng2sp['one'])\n",
    "print(eng2sp['three'])"
   ]
  },
  {
   "cell_type": "code",
   "execution_count": null,
   "metadata": {},
   "outputs": [],
   "source": [
    "# this won't work\n",
    "eng2sp[1]"
   ]
  },
  {
   "cell_type": "code",
   "execution_count": null,
   "metadata": {},
   "outputs": [],
   "source": [
    "# create a multi key-value dictionary with integer keys\n",
    "num2sp = {1: 'uno', 2: 'dos', 3: 'tres'}\n",
    "print(num2sp)"
   ]
  },
  {
   "cell_type": "code",
   "execution_count": null,
   "metadata": {},
   "outputs": [],
   "source": [
    "# but now it does work\n",
    "num2sp[1]"
   ]
  },
  {
   "cell_type": "markdown",
   "metadata": {},
   "source": [
    "* So why did `num2sp[1]` work but `eng2sp[1]` didn't?"
   ]
  },
  {
   "cell_type": "code",
   "execution_count": null,
   "metadata": {},
   "outputs": [],
   "source": [
    "# Updating Dictionary\n",
    "ages = {\n",
    "    \"John\" : 37,\n",
    "    \"Bob\" : 50,\n",
    "    \"Jane\" : 29,\n",
    "    \"Ann\" : 71\n",
    "}\n",
    "\n",
    "print(ages)"
   ]
  },
  {
   "cell_type": "code",
   "execution_count": null,
   "metadata": {},
   "outputs": [],
   "source": [
    "ages[\"John\"] = 38 # Update an item\n",
    "ages[\"Rose\"] = 32 # Add new entry\n",
    "print(ages)"
   ]
  },
  {
   "cell_type": "markdown",
   "metadata": {},
   "source": [
    "* Displaying the contents of the Dictionary"
   ]
  },
  {
   "cell_type": "code",
   "execution_count": null,
   "metadata": {},
   "outputs": [],
   "source": [
    "# show all the keys\n",
    "ages.keys()"
   ]
  },
  {
   "cell_type": "code",
   "execution_count": null,
   "metadata": {},
   "outputs": [],
   "source": [
    "# Show all the values\n",
    "ages.values()"
   ]
  },
  {
   "cell_type": "code",
   "execution_count": null,
   "metadata": {},
   "outputs": [],
   "source": [
    "# Show item pairs\n",
    "ages.items()"
   ]
  },
  {
   "cell_type": "markdown",
   "metadata": {},
   "source": [
    "## Checking Dictionary Contents\n",
    "\n",
    "* Just like with lists you can check to see if a *key* exists within a dictionary\n"
   ]
  },
  {
   "cell_type": "code",
   "execution_count": null,
   "metadata": {},
   "outputs": [],
   "source": [
    "# Updating Dictionary\n",
    "ages = {\n",
    "    \"John\" : 37,\n",
    "    \"Bob\" : 50,\n",
    "    \"Jane\" : 29,\n",
    "    \"Ann\" : 71\n",
    "}\n",
    "\n",
    "if \"Bob\" in ages:\n",
    "    print(\"We got Bob\")\n",
    "else:\n",
    "    print(\"What about Bob?\") # I'm Richard Dreyfuss!"
   ]
  },
  {
   "cell_type": "markdown",
   "metadata": {},
   "source": [
    "---"
   ]
  }
 ],
 "metadata": {
  "kernelspec": {
   "display_name": "Python 3.7",
   "language": "python",
   "name": "python3"
  },
  "language_info": {
   "codemirror_mode": {
    "name": "ipython",
    "version": 3
   },
   "file_extension": ".py",
   "mimetype": "text/x-python",
   "name": "python",
   "nbconvert_exporter": "python",
   "pygments_lexer": "ipython3",
   "version": "3.7.0"
  }
 },
 "nbformat": 4,
 "nbformat_minor": 2
}
