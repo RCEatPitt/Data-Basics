{
 "cells": [
  {
   "cell_type": "markdown",
   "metadata": {},
   "source": [
    "# Iteration\n",
    "\n",
    "* Iteration allows your program to loop, like functions, this reduces the amount of code you must write\n",
    "* Iteration allows your program to loop, like functions, this reduces the amount of code you must write\n",
    "* Iteration allows your program to loop, like functions, this reduces the amount of code you must write\n",
    "\n",
    "* There are two ways of looping, *while* loops and *for* loops\n",
    "\n",
    "\n",
    "## while loops are pretty good...\n",
    "\n",
    "* `while` loops will keep looping as long as a condition is True \n",
    "\n",
    "```\n",
    "while condition:\n",
    "    # code that executes in the loop block\n",
    "\n",
    "```\n",
    "\n",
    "* Be careful to make sure the condition isn't always true or you will have an infinite loop!\n",
    "\n",
    "```\n",
    "# DANGER CODE\n",
    "while true:\n",
    "   print(\"Iteration allows your program to loop, like functions, this reduces the amount of code you must write\")\n",
    "```\n"
   ]
  },
  {
   "cell_type": "code",
   "execution_count": null,
   "metadata": {},
   "outputs": [],
   "source": [
    "# loop to create a countdown\n",
    "n = 5\n",
    "while n > 0:\n",
    "    print(n)\n",
    "    n = n - 1\n",
    "print('Blastoff!')"
   ]
  },
  {
   "cell_type": "markdown",
   "metadata": {},
   "source": [
    "## but **for** loops are your *real* friend\n",
    "\n",
    "* `for` loops let you iterate over a set or collection of items individually and stops when it hits the end\n",
    "\n",
    "### For loop syntax\n",
    "\n",
    "```\n",
    "for <arbitrary variable name> in <a collection or iterator>:\n",
    "    <code that executes in the loop block>\n",
    "    <more code that executes in the loop block>\n",
    "    \n",
    "<code the executes after the loop has completed>\n",
    "```"
   ]
  },
  {
   "cell_type": "code",
   "execution_count": null,
   "metadata": {},
   "outputs": [],
   "source": [
    "# Iterating through a range of values using the range function\n",
    "for i in range(0, 10):\n",
    "    print(i)"
   ]
  },
  {
   "cell_type": "markdown",
   "metadata": {},
   "source": [
    "* The `range(0,10)` acts as an *iterator*, that is, makeing a list of numbers\n",
    "* You can also just give Python a list"
   ]
  },
  {
   "cell_type": "code",
   "execution_count": null,
   "metadata": {},
   "outputs": [],
   "source": [
    "friends = ['Joseph', 'Glenn', 'Sally'] #this is the python list syntax\n",
    "for f in friends:\n",
    "    print('Happy New Year:', f)\n",
    "print('Done!')"
   ]
  },
  {
   "cell_type": "code",
   "execution_count": null,
   "metadata": {},
   "outputs": [],
   "source": [
    "for f in ['Joseph', 'Glenn', 'Sally']:\n",
    "    print('Happy New Year:', f)\n",
    "    print(\"I'm having a good year blimp.\")\n",
    "print('Done!')"
   ]
  },
  {
   "cell_type": "markdown",
   "metadata": {},
   "source": [
    "* loops let you do computations on things"
   ]
  },
  {
   "cell_type": "code",
   "execution_count": null,
   "metadata": {},
   "outputs": [],
   "source": [
    "count = 0\n",
    "for itervar in [3, 41, 12, 9, 74, 15]:\n",
    "    count = count + 1\n",
    "print('Count: ', count)"
   ]
  },
  {
   "cell_type": "code",
   "execution_count": null,
   "metadata": {},
   "outputs": [],
   "source": [
    "total = 0\n",
    "for itervar in [3, 41, 12, 9, 74, 15, 747, 3, 84]:\n",
    "    total = total + itervar\n",
    "print('Total: ', total)\n"
   ]
  },
  {
   "cell_type": "markdown",
   "metadata": {},
   "source": [
    "* You can also loop through dictionaries in the same way you loop through lists\n",
    "* When you loop you will get just the names"
   ]
  },
  {
   "cell_type": "code",
   "execution_count": null,
   "metadata": {},
   "outputs": [],
   "source": [
    "# Looping through a dictionary\n",
    "ages = {\n",
    "    \"John\" : 37,\n",
    "    \"Bob\" : 50,\n",
    "    \"Jane\" : 29,\n",
    "    \"Ann\" : 71\n",
    "}\n",
    "\n",
    "for name in ages: # like saying ages.keys()\n",
    "    print(name, ages[name])\n"
   ]
  },
  {
   "cell_type": "markdown",
   "metadata": {},
   "source": [
    "* You can do something called *unpacking* to get both the key and the values in the loop"
   ]
  },
  {
   "cell_type": "code",
   "execution_count": null,
   "metadata": {},
   "outputs": [],
   "source": [
    "# Looping through a dictionary\n",
    "ages = {\n",
    "    \"John\" : 37,\n",
    "    \"Bob\" : 50,\n",
    "    \"Jane\" : 29,\n",
    "    \"Ann\" : 71\n",
    "}\n",
    "\n",
    "# loop over every key/value pair\n",
    "for key, value in ages.items():\n",
    "    print(key, value)\n"
   ]
  },
  {
   "cell_type": "markdown",
   "metadata": {},
   "source": [
    "### Putting it all together - Shopping List\n",
    "\n",
    "This program creates a list called groceries and defines two dictionaries, stock and prices. Using these structures, it computes the bill for the list of groceries."
   ]
  },
  {
   "cell_type": "code",
   "execution_count": null,
   "metadata": {},
   "outputs": [],
   "source": [
    "# First, create a list called shopping_list that contains the strings \"banana\", \"orange\", and \"apple\"\n",
    "shopping_list = [\"banana\", \"orange\", \"apple\"]"
   ]
  },
  {
   "cell_type": "code",
   "execution_count": null,
   "metadata": {},
   "outputs": [],
   "source": [
    "# Next, create the empty prices dictionary\n",
    "prices = {}\n",
    "\n",
    "# We can then add values to the dictionary\n",
    "prices[\"banana\"] = 4\n",
    "prices[\"apple\"] = 2\n",
    "prices[\"orange\"] = 1.5\n",
    "prices[\"pear\"] = 3"
   ]
  },
  {
   "cell_type": "code",
   "execution_count": null,
   "metadata": {},
   "outputs": [],
   "source": [
    "# Next, create the stock dictionary\n",
    "# We will use a different method from before and simply create the dictionary all at once\n",
    "# Note that we use commas to separate items and a comma does not appear after the last item in the dictionary\n",
    "# Also note that the dictionary can be declared on one line or multiple\n",
    "stock = {\n",
    "    \"banana\": 6,\n",
    "    \"apple\": 0,\n",
    "    \"orange\": 32,\n",
    "    \"pear\": 15\n",
    "}"
   ]
  },
  {
   "cell_type": "code",
   "execution_count": null,
   "metadata": {},
   "outputs": [],
   "source": [
    "# To illustrate how to print out the items in a dictionary along with their associated values, \n",
    "# we can use a loop like the one below\n",
    "for item in prices:\n",
    "    print(item)\n",
    "    print(\"price: \" + str(prices[item]))\n",
    "    print(\"stock: \" + str(stock[item]))\n",
    "    print()"
   ]
  },
  {
   "cell_type": "code",
   "execution_count": null,
   "metadata": {},
   "outputs": [],
   "source": [
    "# Now we can compute the bill for the shopping list\n",
    "# We will do this by looping through the items in the list, checking to see if the store has the item in stock,\n",
    "# and adding the price to a variable called grocery_bill\n",
    "# Also, we will update the stock dictionary to reflect any changes in the quantity of a good if it is on the list\n",
    "grocery_bill = 0\n",
    "\n",
    "for item in shopping_list:\n",
    "    if stock[item] > 0:\n",
    "        price = prices[item]\n",
    "        grocery_bill = grocery_bill + price\n",
    "        stock[item] = stock[item] - 1\n",
    "    else:\n",
    "        print(item + \"s are not in stock!\")"
   ]
  },
  {
   "cell_type": "code",
   "execution_count": null,
   "metadata": {},
   "outputs": [],
   "source": [
    "# Finally, output the result\n",
    "print(\"Cost of groceries: \" + str(grocery_bill))"
   ]
  },
  {
   "cell_type": "markdown",
   "metadata": {},
   "source": [
    "## Shopping List Challenge\n",
    "\n",
    "Write a program that restocks the grocery store based upon a delivery of new and existing fruits. The delivery comes in the form of a list. Update the stock total based on the list and then calculate the total value of the stock based on prices. Don't forget to set prices on any new fruit that gets delivered!\n",
    "\n",
    "### Steps\n",
    "\n",
    "1. Identify any new fruits and update the price\n",
    "2. Add that to the existing stock of fruits\n",
    "3. Update the prices for any new fruits\n",
    "4. Calculate the total value of the stock based on the fruit quantity times the price\n",
    "5. Print the new stock and the total value of the stock"
   ]
  },
  {
   "cell_type": "code",
   "execution_count": null,
   "metadata": {},
   "outputs": [],
   "source": [
    "# print the current stock of the grocery after we went shopping above\n",
    "print(\"Stock:\", stock)\n",
    "print(\"Prices:\", prices)"
   ]
  },
  {
   "cell_type": "code",
   "execution_count": null,
   "metadata": {},
   "outputs": [],
   "source": [
    "# Delivery list\n",
    "delivery = [\"apple\",\"apple\",\"apple\",\"apple\",\"apple\",\"apple\",\"apple\",\"apple\",\"apple\",\"apple\",\"apple\",\"apple\",\n",
    "            \"banana\",\"banana\",\"banana\",\"banana\",\"banana\",\n",
    "            \"orange\",\n",
    "            \"pear\",\"pear\",\"pear\",\"pear\",\"pear\",\"pear\",\"pear\",\n",
    "            \"pinapple\",\"pinapple\",\"pinapple\",\"pinapple\",\n",
    "            \"dragonfruit\"]\n",
    "\n",
    "# Your code here\n",
    "\n",
    "\n"
   ]
  },
  {
   "cell_type": "code",
   "execution_count": null,
   "metadata": {},
   "outputs": [],
   "source": []
  },
  {
   "cell_type": "code",
   "execution_count": null,
   "metadata": {},
   "outputs": [],
   "source": []
  },
  {
   "cell_type": "code",
   "execution_count": null,
   "metadata": {},
   "outputs": [],
   "source": []
  },
  {
   "cell_type": "code",
   "execution_count": null,
   "metadata": {},
   "outputs": [],
   "source": []
  },
  {
   "cell_type": "code",
   "execution_count": null,
   "metadata": {},
   "outputs": [],
   "source": []
  },
  {
   "cell_type": "code",
   "execution_count": null,
   "metadata": {},
   "outputs": [],
   "source": []
  },
  {
   "cell_type": "code",
   "execution_count": null,
   "metadata": {},
   "outputs": [],
   "source": []
  },
  {
   "cell_type": "code",
   "execution_count": null,
   "metadata": {},
   "outputs": [],
   "source": []
  },
  {
   "cell_type": "code",
   "execution_count": null,
   "metadata": {},
   "outputs": [],
   "source": []
  },
  {
   "cell_type": "code",
   "execution_count": null,
   "metadata": {},
   "outputs": [],
   "source": []
  },
  {
   "cell_type": "code",
   "execution_count": null,
   "metadata": {},
   "outputs": [],
   "source": []
  },
  {
   "cell_type": "code",
   "execution_count": null,
   "metadata": {},
   "outputs": [],
   "source": []
  },
  {
   "cell_type": "code",
   "execution_count": null,
   "metadata": {},
   "outputs": [],
   "source": []
  },
  {
   "cell_type": "code",
   "execution_count": null,
   "metadata": {},
   "outputs": [],
   "source": []
  },
  {
   "cell_type": "code",
   "execution_count": null,
   "metadata": {},
   "outputs": [],
   "source": []
  },
  {
   "cell_type": "code",
   "execution_count": null,
   "metadata": {},
   "outputs": [],
   "source": [
    "# Delivery list\n",
    "delivery = [\"apple\",\"apple\",\"apple\",\"apple\",\"apple\",\"apple\",\"apple\",\"apple\",\"apple\",\"apple\",\"apple\",\"apple\",\n",
    "            \"banana\",\"banana\",\"banana\",\"banana\",\"banana\",\n",
    "            \"orange\",\n",
    "            \"pear\",\"pear\",\"pear\",\"pear\",\"pear\",\"pear\",\"pear\",\n",
    "            \"pinapple\",\"pinapple\",\"pinapple\",\"pinapple\",\n",
    "            \"dragonfruit\"]\n",
    "\n",
    "# Your code here\n",
    "\n",
    "# update the prices\n",
    "prices['pinapple'] = 4\n",
    "prices['dragonfruit'] = 100\n",
    "\n",
    "# Update the stock based on the delivery\n",
    "for fruit in delivery:\n",
    "    if fruit in stock:\n",
    "        stock[fruit] = stock[fruit] + 1\n",
    "    else:\n",
    "        stock[fruit] = 1\n",
    "print(\"New Stock:\", stock)\n",
    "\n",
    "# calculate the total value of the stock\n",
    "stock_total_value = 0\n",
    "for item in stock:\n",
    "    stock_total_value = stock_total_value + stock[item] * prices[item]\n",
    "    \n",
    "print(\"Total:\", stock_total_value)"
   ]
  },
  {
   "cell_type": "code",
   "execution_count": null,
   "metadata": {},
   "outputs": [],
   "source": []
  }
 ],
 "metadata": {
  "kernelspec": {
   "display_name": "Python 3.7",
   "language": "python",
   "name": "python3"
  },
  "language_info": {
   "codemirror_mode": {
    "name": "ipython",
    "version": 3
   },
   "file_extension": ".py",
   "mimetype": "text/x-python",
   "name": "python",
   "nbconvert_exporter": "python",
   "pygments_lexer": "ipython3",
   "version": "3.7.0"
  }
 },
 "nbformat": 4,
 "nbformat_minor": 2
}
